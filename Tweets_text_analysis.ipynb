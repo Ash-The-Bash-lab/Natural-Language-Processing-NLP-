{
 "cells": [
  {
   "cell_type": "markdown",
   "id": "d679136d",
   "metadata": {},
   "source": [
    "### Imports"
   ]
  },
  {
   "cell_type": "code",
   "execution_count": 1,
   "id": "bd43e64d",
   "metadata": {},
   "outputs": [],
   "source": [
    "import snscrape.modules.twitter as sntwitter\n",
    "import matplotlib.pyplot as plt\n",
    "import pandas as pd\n",
    "from pandas import *\n",
    "import warnings\n",
    "from datetime import date\n",
    "warnings.filterwarnings('ignore')"
   ]
  },
  {
   "cell_type": "markdown",
   "id": "29496d7e",
   "metadata": {},
   "source": [
    "### Format today {}"
   ]
  },
  {
   "cell_type": "code",
   "execution_count": 2,
   "id": "4cbe7cc9",
   "metadata": {},
   "outputs": [
    {
     "name": "stdout",
     "output_type": "stream",
     "text": [
      "2022-12-02\n"
     ]
    }
   ],
   "source": [
    "today = date.today()\n",
    "print(today)"
   ]
  },
  {
   "cell_type": "markdown",
   "id": "4250bb95",
   "metadata": {},
   "source": [
    "### Extract raw data"
   ]
  },
  {
   "cell_type": "code",
   "execution_count": 3,
   "id": "2c004413",
   "metadata": {},
   "outputs": [],
   "source": [
    "query = f\"\"\"((\"Ukrainian\" OR \"war\" OR \"russia\")\n",
    "from:visegrad24 OR \n",
    "from:ukraine_world OR \n",
    "from:UATV_en OR \n",
    "from:MFA_Ukraine OR \n",
    "from:DefenceU OR \n",
    "from:KpsZSU OR \n",
    "from:NATO OR \n",
    "from:dpa_intl) \n",
    "lang:en \n",
    "until:{today} \n",
    "since:2022-02-24)\"\"\"\n",
    "\n",
    "tweets = []\n",
    "limit = 20000\n",
    "\n",
    "\n",
    "for tweet in sntwitter.TwitterSearchScraper(query).get_items():\n",
    "    if len(tweets) == limit:\n",
    "        break\n",
    "    else:\n",
    "        tweets.append([tweet.user.username, tweet.date, \n",
    "                       tweet.content, tweet.source])\n",
    "        \n",
    "df = pd.DataFrame(tweets, columns=['Users', 'Date', 'Tweets', 'Source'])"
   ]
  },
  {
   "cell_type": "code",
   "execution_count": 4,
   "id": "aee05510",
   "metadata": {
    "scrolled": true
   },
   "outputs": [
    {
     "data": {
      "text/html": [
       "<div>\n",
       "<style scoped>\n",
       "    .dataframe tbody tr th:only-of-type {\n",
       "        vertical-align: middle;\n",
       "    }\n",
       "\n",
       "    .dataframe tbody tr th {\n",
       "        vertical-align: top;\n",
       "    }\n",
       "\n",
       "    .dataframe thead th {\n",
       "        text-align: right;\n",
       "    }\n",
       "</style>\n",
       "<table border=\"1\" class=\"dataframe\">\n",
       "  <thead>\n",
       "    <tr style=\"text-align: right;\">\n",
       "      <th></th>\n",
       "      <th>Users</th>\n",
       "      <th>Date</th>\n",
       "      <th>Tweets</th>\n",
       "      <th>Source</th>\n",
       "    </tr>\n",
       "  </thead>\n",
       "  <tbody>\n",
       "    <tr>\n",
       "      <th>0</th>\n",
       "      <td>visegrad24</td>\n",
       "      <td>2022-12-01 22:44:18+00:00</td>\n",
       "      <td>Soloviev can’t stand the fact that Russia is l...</td>\n",
       "      <td>&lt;a href=\"http://twitter.com/download/iphone\" r...</td>\n",
       "    </tr>\n",
       "    <tr>\n",
       "      <th>1</th>\n",
       "      <td>visegrad24</td>\n",
       "      <td>2022-12-01 22:24:29+00:00</td>\n",
       "      <td>Ukrainian orphans eating soup and lining up fo...</td>\n",
       "      <td>&lt;a href=\"http://twitter.com/download/iphone\" r...</td>\n",
       "    </tr>\n",
       "    <tr>\n",
       "      <th>2</th>\n",
       "      <td>ukraine_world</td>\n",
       "      <td>2022-12-01 21:30:18+00:00</td>\n",
       "      <td>A regular scene for Ukrainian families...\\nSou...</td>\n",
       "      <td>&lt;a href=\"https://mobile.twitter.com\" rel=\"nofo...</td>\n",
       "    </tr>\n",
       "    <tr>\n",
       "      <th>3</th>\n",
       "      <td>ukraine_world</td>\n",
       "      <td>2022-12-01 21:24:39+00:00</td>\n",
       "      <td>A short sum up of the Russian war against Ukra...</td>\n",
       "      <td>&lt;a href=\"https://mobile.twitter.com\" rel=\"nofo...</td>\n",
       "    </tr>\n",
       "    <tr>\n",
       "      <th>4</th>\n",
       "      <td>ukraine_world</td>\n",
       "      <td>2022-12-01 20:38:10+00:00</td>\n",
       "      <td>Ukraine is a progressive industrial state. Its...</td>\n",
       "      <td>&lt;a href=\"https://mobile.twitter.com\" rel=\"nofo...</td>\n",
       "    </tr>\n",
       "  </tbody>\n",
       "</table>\n",
       "</div>"
      ],
      "text/plain": [
       "           Users                      Date  \\\n",
       "0     visegrad24 2022-12-01 22:44:18+00:00   \n",
       "1     visegrad24 2022-12-01 22:24:29+00:00   \n",
       "2  ukraine_world 2022-12-01 21:30:18+00:00   \n",
       "3  ukraine_world 2022-12-01 21:24:39+00:00   \n",
       "4  ukraine_world 2022-12-01 20:38:10+00:00   \n",
       "\n",
       "                                              Tweets  \\\n",
       "0  Soloviev can’t stand the fact that Russia is l...   \n",
       "1  Ukrainian orphans eating soup and lining up fo...   \n",
       "2  A regular scene for Ukrainian families...\\nSou...   \n",
       "3  A short sum up of the Russian war against Ukra...   \n",
       "4  Ukraine is a progressive industrial state. Its...   \n",
       "\n",
       "                                              Source  \n",
       "0  <a href=\"http://twitter.com/download/iphone\" r...  \n",
       "1  <a href=\"http://twitter.com/download/iphone\" r...  \n",
       "2  <a href=\"https://mobile.twitter.com\" rel=\"nofo...  \n",
       "3  <a href=\"https://mobile.twitter.com\" rel=\"nofo...  \n",
       "4  <a href=\"https://mobile.twitter.com\" rel=\"nofo...  "
      ]
     },
     "execution_count": 4,
     "metadata": {},
     "output_type": "execute_result"
    }
   ],
   "source": [
    "df.head()"
   ]
  },
  {
   "cell_type": "markdown",
   "id": "9a48d6be",
   "metadata": {},
   "source": [
    "### Save df to CSV "
   ]
  },
  {
   "cell_type": "code",
   "execution_count": 5,
   "id": "44c63719",
   "metadata": {},
   "outputs": [],
   "source": [
    "df.to_csv('C:/Users/ashis/OneDrive/Desktop/Sem_2/OSINT/stored_tweets/dashboard_tweets.csv', index = False)"
   ]
  },
  {
   "cell_type": "markdown",
   "id": "2a028fa1",
   "metadata": {},
   "source": [
    "### Tweets per user"
   ]
  },
  {
   "cell_type": "code",
   "execution_count": 6,
   "id": "3b649f7a",
   "metadata": {},
   "outputs": [
    {
     "data": {
      "text/plain": [
       "visegrad24       4818\n",
       "ukraine_world    4354\n",
       "dpa_intl         1199\n",
       "MFA_Ukraine       807\n",
       "DefenceU          522\n",
       "NATO               50\n",
       "KpsZSU             48\n",
       "Name: Users, dtype: int64"
      ]
     },
     "execution_count": 6,
     "metadata": {},
     "output_type": "execute_result"
    }
   ],
   "source": [
    "Tweets_per_user = df['Users'].value_counts()\n",
    "Tweets_per_user"
   ]
  },
  {
   "cell_type": "markdown",
   "id": "1a887f61",
   "metadata": {},
   "source": [
    "### Plot ^ pie using seaborn"
   ]
  },
  {
   "cell_type": "code",
   "execution_count": 7,
   "id": "b8118392",
   "metadata": {},
   "outputs": [],
   "source": [
    "import seaborn as sns"
   ]
  },
  {
   "cell_type": "code",
   "execution_count": 8,
   "id": "75437478",
   "metadata": {},
   "outputs": [
    {
     "name": "stdout",
     "output_type": "stream",
     "text": [
      "\n"
     ]
    },
    {
     "data": {
      "image/png": "[encoded data removed]",
      "text/plain": [
       "<Figure size 576x576 with 1 Axes>"
      ]
     },
     "metadata": {},
     "output_type": "display_data"
    }
   ],
   "source": [
    "plt.figure(figsize=(8,8))\n",
    "#plt.title(\"Tweets per user\"), fontsize = 20)\n",
    "\n",
    "colors = sns.color_palette(\"Set2\")\n",
    "\n",
    "plt.ylabel('ylabel', fontsize=0)\n",
    "\n",
    "\n",
    "Tweets_per_user.nlargest(6).plot(kind='pie', \n",
    "                                 autopct=\"%1.1f%%\", \n",
    "                                 colors = colors)\n",
    "print(\"\")"
   ]
  },
  {
   "cell_type": "markdown",
   "id": "1845894c",
   "metadata": {},
   "source": [
    "### Clean extracted Sources"
   ]
  },
  {
   "cell_type": "code",
   "execution_count": 9,
   "id": "a42b6956",
   "metadata": {},
   "outputs": [
    {
     "data": {
      "text/plain": [
       "<a href=\"http://twitter.com/download/iphone\" rel=\"nofollow\">Twitter for iPhone</a>                       5328\n",
       "<a href=\"https://mobile.twitter.com\" rel=\"nofollow\">Twitter Web App</a>                                  4085\n",
       "<a href=\"http://twitter.com/download/android\" rel=\"nofollow\">Twitter for Android</a>                     1234\n",
       "<a href=\"https://about.twitter.com/products/tweetdeck\" rel=\"nofollow\">TweetDeck</a>                       876\n",
       "<a href=\"http://itunes.apple.com/us/app/twitter/id409789998?mt=12\" rel=\"nofollow\">Twitter for Mac</a>     195\n",
       "<a href=\"https://studio.twitter.com\" rel=\"nofollow\">Twitter Media Studio</a>                               41\n",
       "<a href=\"https://twitter.com\" rel=\"nofollow\">Twitter for Advertisers</a>                                   15\n",
       "<a href=\"https://ads-api.twitter.com\" rel=\"nofollow\">Twitter for Advertisers.</a>                          10\n",
       "<a href=\"https://tapbots.com/software/tweetbot/mac\" rel=\"nofollow\">Tweetbot for Mac</a>                    10\n",
       "<a href=\"https://twitter.com\" rel=\"nofollow\">TweetDeck Web App</a>                                          3\n",
       "<a href=\"http://twitter.com/#!/download/ipad\" rel=\"nofollow\">Twitter for iPad</a>                           1\n",
       "Name: Source, dtype: int64"
      ]
     },
     "execution_count": 9,
     "metadata": {},
     "output_type": "execute_result"
    }
   ],
   "source": [
    "df['Source'].value_counts()"
   ]
  },
  {
   "cell_type": "code",
   "execution_count": 10,
   "id": "274d2d34",
   "metadata": {},
   "outputs": [],
   "source": [
    "sources = df['Source']"
   ]
  },
  {
   "cell_type": "code",
   "execution_count": 11,
   "id": "3c549af0",
   "metadata": {},
   "outputs": [
    {
     "data": {
      "text/plain": [
       "0    <a href=\"http://twitter.com/download/iphone\" r...\n",
       "1    <a href=\"http://twitter.com/download/iphone\" r...\n",
       "2    <a href=\"https://mobile.twitter.com\" rel=\"nofo...\n",
       "3    <a href=\"https://mobile.twitter.com\" rel=\"nofo...\n",
       "4    <a href=\"https://mobile.twitter.com\" rel=\"nofo...\n",
       "Name: Source, dtype: object"
      ]
     },
     "execution_count": 11,
     "metadata": {},
     "output_type": "execute_result"
    }
   ],
   "source": [
    "sources.head()"
   ]
  },
  {
   "cell_type": "code",
   "execution_count": 12,
   "id": "8095b950",
   "metadata": {},
   "outputs": [
    {
     "name": "stdout",
     "output_type": "stream",
     "text": [
      "<class 'str'>\n"
     ]
    }
   ],
   "source": [
    "print(type(sources[0]))    "
   ]
  },
  {
   "cell_type": "code",
   "execution_count": 13,
   "id": "89c1c8ac",
   "metadata": {},
   "outputs": [],
   "source": [
    "import re\n",
    "\n",
    "def clean_html_tags(raw_source):\n",
    "    cleanr = re.compile('<.*?>')\n",
    "    clean_text = re.sub(cleanr, '', raw_source)\n",
    "    return clean_text"
   ]
  },
  {
   "cell_type": "code",
   "execution_count": 14,
   "id": "21d62676",
   "metadata": {},
   "outputs": [
    {
     "name": "stdout",
     "output_type": "stream",
     "text": [
      "Twitter for iPhone\n"
     ]
    }
   ],
   "source": [
    "print(clean_html_tags(sources[0]))"
   ]
  },
  {
   "cell_type": "code",
   "execution_count": 15,
   "id": "c6abc974",
   "metadata": {},
   "outputs": [],
   "source": [
    "clean_source = []\n",
    "for source in sources:\n",
    "    source = clean_html_tags(source)\n",
    "    clean_source.append(source)"
   ]
  },
  {
   "cell_type": "code",
   "execution_count": 16,
   "id": "0c2b5b9a",
   "metadata": {},
   "outputs": [],
   "source": [
    "df['Source'] = clean_source"
   ]
  },
  {
   "cell_type": "code",
   "execution_count": 17,
   "id": "97a5b4e4",
   "metadata": {},
   "outputs": [
    {
     "data": {
      "text/plain": [
       "0    Twitter for iPhone\n",
       "1    Twitter for iPhone\n",
       "2       Twitter Web App\n",
       "3       Twitter Web App\n",
       "4       Twitter Web App\n",
       "Name: Source, dtype: object"
      ]
     },
     "execution_count": 17,
     "metadata": {},
     "output_type": "execute_result"
    }
   ],
   "source": [
    "df['Source'].head()"
   ]
  },
  {
   "cell_type": "code",
   "execution_count": 18,
   "id": "72afb4af",
   "metadata": {},
   "outputs": [
    {
     "data": {
      "text/plain": [
       "Twitter for iPhone          5328\n",
       "Twitter Web App             4085\n",
       "Twitter for Android         1234\n",
       "TweetDeck                    876\n",
       "Twitter for Mac              195\n",
       "Twitter Media Studio          41\n",
       "Twitter for Advertisers       15\n",
       "Twitter for Advertisers.      10\n",
       "Tweetbot for Mac              10\n",
       "TweetDeck Web App              3\n",
       "Twitter for iPad               1\n",
       "Name: Source, dtype: int64"
      ]
     },
     "execution_count": 18,
     "metadata": {},
     "output_type": "execute_result"
    }
   ],
   "source": [
    "Tweet_source = df['Source'].value_counts()\n",
    "Tweet_source"
   ]
  },
  {
   "cell_type": "markdown",
   "id": "3374d7d4",
   "metadata": {},
   "source": [
    "### Plot ^ as a bar graph"
   ]
  },
  {
   "cell_type": "code",
   "execution_count": 19,
   "id": "365726af",
   "metadata": {},
   "outputs": [],
   "source": [
    "import numpy as np"
   ]
  },
  {
   "cell_type": "code",
   "execution_count": 20,
   "id": "a0553270",
   "metadata": {},
   "outputs": [
    {
     "data": {
      "image/png": "[encoded data removed]",
      "text/plain": [
       "<Figure size 576x576 with 1 Axes>"
      ]
     },
     "metadata": {
      "needs_background": "light"
     },
     "output_type": "display_data"
    }
   ],
   "source": [
    "plt.figure(figsize=(8,8))\n",
    "\n",
    "\n",
    "colors = sns.color_palette(\"rocket\")\n",
    "Tweet_source.nlargest(6).plot(kind='bar', color = colors)\n",
    "plt.yticks(np.arange(0, 5600, step=500))\n",
    "plt.xticks(rotation = 90)\n",
    "\n",
    "#plt.title(\"Twitter Source Analysis\")\n",
    "plt.grid(color='gainsboro', linestyle='--', linewidth=0.5)\n",
    "\n",
    "plt.show()"
   ]
  },
  {
   "cell_type": "code",
   "execution_count": 21,
   "id": "927d7cf7",
   "metadata": {},
   "outputs": [
    {
     "data": {
      "text/html": [
       "<div>\n",
       "<style scoped>\n",
       "    .dataframe tbody tr th:only-of-type {\n",
       "        vertical-align: middle;\n",
       "    }\n",
       "\n",
       "    .dataframe tbody tr th {\n",
       "        vertical-align: top;\n",
       "    }\n",
       "\n",
       "    .dataframe thead th {\n",
       "        text-align: right;\n",
       "    }\n",
       "</style>\n",
       "<table border=\"1\" class=\"dataframe\">\n",
       "  <thead>\n",
       "    <tr style=\"text-align: right;\">\n",
       "      <th></th>\n",
       "      <th>Users</th>\n",
       "      <th>Date</th>\n",
       "      <th>Tweets</th>\n",
       "      <th>Source</th>\n",
       "    </tr>\n",
       "  </thead>\n",
       "  <tbody>\n",
       "    <tr>\n",
       "      <th>0</th>\n",
       "      <td>visegrad24</td>\n",
       "      <td>2022-12-01 22:44:18+00:00</td>\n",
       "      <td>Soloviev can’t stand the fact that Russia is l...</td>\n",
       "      <td>Twitter for iPhone</td>\n",
       "    </tr>\n",
       "    <tr>\n",
       "      <th>1</th>\n",
       "      <td>visegrad24</td>\n",
       "      <td>2022-12-01 22:24:29+00:00</td>\n",
       "      <td>Ukrainian orphans eating soup and lining up fo...</td>\n",
       "      <td>Twitter for iPhone</td>\n",
       "    </tr>\n",
       "    <tr>\n",
       "      <th>2</th>\n",
       "      <td>ukraine_world</td>\n",
       "      <td>2022-12-01 21:30:18+00:00</td>\n",
       "      <td>A regular scene for Ukrainian families...\\nSou...</td>\n",
       "      <td>Twitter Web App</td>\n",
       "    </tr>\n",
       "    <tr>\n",
       "      <th>3</th>\n",
       "      <td>ukraine_world</td>\n",
       "      <td>2022-12-01 21:24:39+00:00</td>\n",
       "      <td>A short sum up of the Russian war against Ukra...</td>\n",
       "      <td>Twitter Web App</td>\n",
       "    </tr>\n",
       "    <tr>\n",
       "      <th>4</th>\n",
       "      <td>ukraine_world</td>\n",
       "      <td>2022-12-01 20:38:10+00:00</td>\n",
       "      <td>Ukraine is a progressive industrial state. Its...</td>\n",
       "      <td>Twitter Web App</td>\n",
       "    </tr>\n",
       "  </tbody>\n",
       "</table>\n",
       "</div>"
      ],
      "text/plain": [
       "           Users                      Date  \\\n",
       "0     visegrad24 2022-12-01 22:44:18+00:00   \n",
       "1     visegrad24 2022-12-01 22:24:29+00:00   \n",
       "2  ukraine_world 2022-12-01 21:30:18+00:00   \n",
       "3  ukraine_world 2022-12-01 21:24:39+00:00   \n",
       "4  ukraine_world 2022-12-01 20:38:10+00:00   \n",
       "\n",
       "                                              Tweets              Source  \n",
       "0  Soloviev can’t stand the fact that Russia is l...  Twitter for iPhone  \n",
       "1  Ukrainian orphans eating soup and lining up fo...  Twitter for iPhone  \n",
       "2  A regular scene for Ukrainian families...\\nSou...     Twitter Web App  \n",
       "3  A short sum up of the Russian war against Ukra...     Twitter Web App  \n",
       "4  Ukraine is a progressive industrial state. Its...     Twitter Web App  "
      ]
     },
     "execution_count": 21,
     "metadata": {},
     "output_type": "execute_result"
    }
   ],
   "source": [
    "df.head()"
   ]
  },
  {
   "cell_type": "markdown",
   "id": "3936aa2a",
   "metadata": {},
   "source": [
    "### Clean the date to yyyy-mm-dd format only and remove the time stamp"
   ]
  },
  {
   "cell_type": "code",
   "execution_count": 22,
   "id": "73977983",
   "metadata": {},
   "outputs": [
    {
     "data": {
      "text/plain": [
       "0   2022-12-01 22:44:18+00:00\n",
       "1   2022-12-01 22:24:29+00:00\n",
       "2   2022-12-01 21:30:18+00:00\n",
       "3   2022-12-01 21:24:39+00:00\n",
       "4   2022-12-01 20:38:10+00:00\n",
       "Name: Date, dtype: datetime64[ns, UTC]"
      ]
     },
     "execution_count": 22,
     "metadata": {},
     "output_type": "execute_result"
    }
   ],
   "source": [
    "df['Date'].head()"
   ]
  },
  {
   "cell_type": "code",
   "execution_count": 23,
   "id": "781eb5fb",
   "metadata": {},
   "outputs": [],
   "source": [
    "Dates = df['Date']"
   ]
  },
  {
   "cell_type": "code",
   "execution_count": 24,
   "id": "e95ad361",
   "metadata": {},
   "outputs": [
    {
     "data": {
      "text/plain": [
       "Timestamp('2022-12-01 22:44:18+0000', tz='UTC')"
      ]
     },
     "execution_count": 24,
     "metadata": {},
     "output_type": "execute_result"
    }
   ],
   "source": [
    "Dates[0]"
   ]
  },
  {
   "cell_type": "code",
   "execution_count": 25,
   "id": "39cb1792",
   "metadata": {},
   "outputs": [],
   "source": [
    "clean_dates = []\n",
    "for date in Dates:\n",
    "    date = str(date)\n",
    "    date = date[:-15]\n",
    "    clean_dates.append(date)"
   ]
  },
  {
   "cell_type": "code",
   "execution_count": 26,
   "id": "be8aa246",
   "metadata": {},
   "outputs": [],
   "source": [
    "df['Date'] = clean_dates"
   ]
  },
  {
   "cell_type": "code",
   "execution_count": 27,
   "id": "f0898695",
   "metadata": {},
   "outputs": [],
   "source": [
    "#df = df.drop(columns=['Dates'])"
   ]
  },
  {
   "cell_type": "code",
   "execution_count": 102,
   "id": "c7978dfe",
   "metadata": {},
   "outputs": [
    {
     "data": {
      "text/plain": [
       "2022-08-13      9\n",
       "2022-11-13     11\n",
       "2022-11-12     11\n",
       "2022-07-02     12\n",
       "2022-10-08     13\n",
       "             ... \n",
       "2022-02-27    138\n",
       "2022-03-01    150\n",
       "2022-02-26    188\n",
       "2022-02-25    197\n",
       "2022-02-24    231\n",
       "Name: Date, Length: 281, dtype: int64"
      ]
     },
     "execution_count": 102,
     "metadata": {},
     "output_type": "execute_result"
    }
   ],
   "source": [
    "tweets_per_day = df['Date'].value_counts()\n",
    "tweets_per_day.sort_values()"
   ]
  },
  {
   "cell_type": "code",
   "execution_count": 29,
   "id": "0798e931",
   "metadata": {
    "scrolled": true
   },
   "outputs": [
    {
     "name": "stdout",
     "output_type": "stream",
     "text": [
      "<class 'pandas.core.series.Series'>\n"
     ]
    }
   ],
   "source": [
    "print(type(tweets_per_day))"
   ]
  },
  {
   "cell_type": "code",
   "execution_count": 30,
   "id": "a03ffdbd",
   "metadata": {},
   "outputs": [
    {
     "data": {
      "text/html": [
       "<div>\n",
       "<style scoped>\n",
       "    .dataframe tbody tr th:only-of-type {\n",
       "        vertical-align: middle;\n",
       "    }\n",
       "\n",
       "    .dataframe tbody tr th {\n",
       "        vertical-align: top;\n",
       "    }\n",
       "\n",
       "    .dataframe thead th {\n",
       "        text-align: right;\n",
       "    }\n",
       "</style>\n",
       "<table border=\"1\" class=\"dataframe\">\n",
       "  <thead>\n",
       "    <tr style=\"text-align: right;\">\n",
       "      <th></th>\n",
       "      <th>Users</th>\n",
       "      <th>Date</th>\n",
       "      <th>Tweets</th>\n",
       "      <th>Source</th>\n",
       "    </tr>\n",
       "  </thead>\n",
       "  <tbody>\n",
       "    <tr>\n",
       "      <th>0</th>\n",
       "      <td>visegrad24</td>\n",
       "      <td>2022-12-01</td>\n",
       "      <td>Soloviev can’t stand the fact that Russia is l...</td>\n",
       "      <td>Twitter for iPhone</td>\n",
       "    </tr>\n",
       "    <tr>\n",
       "      <th>1</th>\n",
       "      <td>visegrad24</td>\n",
       "      <td>2022-12-01</td>\n",
       "      <td>Ukrainian orphans eating soup and lining up fo...</td>\n",
       "      <td>Twitter for iPhone</td>\n",
       "    </tr>\n",
       "    <tr>\n",
       "      <th>2</th>\n",
       "      <td>ukraine_world</td>\n",
       "      <td>2022-12-01</td>\n",
       "      <td>A regular scene for Ukrainian families...\\nSou...</td>\n",
       "      <td>Twitter Web App</td>\n",
       "    </tr>\n",
       "    <tr>\n",
       "      <th>3</th>\n",
       "      <td>ukraine_world</td>\n",
       "      <td>2022-12-01</td>\n",
       "      <td>A short sum up of the Russian war against Ukra...</td>\n",
       "      <td>Twitter Web App</td>\n",
       "    </tr>\n",
       "    <tr>\n",
       "      <th>4</th>\n",
       "      <td>ukraine_world</td>\n",
       "      <td>2022-12-01</td>\n",
       "      <td>Ukraine is a progressive industrial state. Its...</td>\n",
       "      <td>Twitter Web App</td>\n",
       "    </tr>\n",
       "    <tr>\n",
       "      <th>...</th>\n",
       "      <td>...</td>\n",
       "      <td>...</td>\n",
       "      <td>...</td>\n",
       "      <td>...</td>\n",
       "    </tr>\n",
       "    <tr>\n",
       "      <th>11793</th>\n",
       "      <td>ukraine_world</td>\n",
       "      <td>2022-02-24</td>\n",
       "      <td>said Russia intends to \"denazify\" Ukraine</td>\n",
       "      <td>Twitter for Android</td>\n",
       "    </tr>\n",
       "    <tr>\n",
       "      <th>11794</th>\n",
       "      <td>ukraine_world</td>\n",
       "      <td>2022-02-24</td>\n",
       "      <td>he addressed Russians with a special video add...</td>\n",
       "      <td>Twitter for Android</td>\n",
       "    </tr>\n",
       "    <tr>\n",
       "      <th>11795</th>\n",
       "      <td>visegrad24</td>\n",
       "      <td>2022-02-24</td>\n",
       "      <td>U.S. Secretary of State Blinken believes Russi...</td>\n",
       "      <td>Twitter for iPhone</td>\n",
       "    </tr>\n",
       "    <tr>\n",
       "      <th>11796</th>\n",
       "      <td>visegrad24</td>\n",
       "      <td>2022-02-24</td>\n",
       "      <td>Perhaps the most brave and stunning take on Ru...</td>\n",
       "      <td>Twitter for iPhone</td>\n",
       "    </tr>\n",
       "    <tr>\n",
       "      <th>11797</th>\n",
       "      <td>visegrad24</td>\n",
       "      <td>2022-02-24</td>\n",
       "      <td>Russia has just announced that it is closing t...</td>\n",
       "      <td>Twitter for iPhone</td>\n",
       "    </tr>\n",
       "  </tbody>\n",
       "</table>\n",
       "<p>11798 rows × 4 columns</p>\n",
       "</div>"
      ],
      "text/plain": [
       "               Users        Date  \\\n",
       "0         visegrad24  2022-12-01   \n",
       "1         visegrad24  2022-12-01   \n",
       "2      ukraine_world  2022-12-01   \n",
       "3      ukraine_world  2022-12-01   \n",
       "4      ukraine_world  2022-12-01   \n",
       "...              ...         ...   \n",
       "11793  ukraine_world  2022-02-24   \n",
       "11794  ukraine_world  2022-02-24   \n",
       "11795     visegrad24  2022-02-24   \n",
       "11796     visegrad24  2022-02-24   \n",
       "11797     visegrad24  2022-02-24   \n",
       "\n",
       "                                                  Tweets               Source  \n",
       "0      Soloviev can’t stand the fact that Russia is l...   Twitter for iPhone  \n",
       "1      Ukrainian orphans eating soup and lining up fo...   Twitter for iPhone  \n",
       "2      A regular scene for Ukrainian families...\\nSou...      Twitter Web App  \n",
       "3      A short sum up of the Russian war against Ukra...      Twitter Web App  \n",
       "4      Ukraine is a progressive industrial state. Its...      Twitter Web App  \n",
       "...                                                  ...                  ...  \n",
       "11793          said Russia intends to \"denazify\" Ukraine  Twitter for Android  \n",
       "11794  he addressed Russians with a special video add...  Twitter for Android  \n",
       "11795  U.S. Secretary of State Blinken believes Russi...   Twitter for iPhone  \n",
       "11796  Perhaps the most brave and stunning take on Ru...   Twitter for iPhone  \n",
       "11797  Russia has just announced that it is closing t...   Twitter for iPhone  \n",
       "\n",
       "[11798 rows x 4 columns]"
      ]
     },
     "execution_count": 30,
     "metadata": {},
     "output_type": "execute_result"
    }
   ],
   "source": [
    "df"
   ]
  },
  {
   "cell_type": "markdown",
   "id": "b6e00b7b",
   "metadata": {},
   "source": [
    "### Clean the tweets"
   ]
  },
  {
   "cell_type": "code",
   "execution_count": 31,
   "id": "e61b5344",
   "metadata": {},
   "outputs": [],
   "source": [
    "#!pip install neattext"
   ]
  },
  {
   "cell_type": "code",
   "execution_count": 32,
   "id": "0a146777",
   "metadata": {},
   "outputs": [],
   "source": [
    "import neattext.functions as nfx"
   ]
  },
  {
   "cell_type": "code",
   "execution_count": 33,
   "id": "bb7c6da2",
   "metadata": {},
   "outputs": [
    {
     "data": {
      "text/plain": [
       "['BTC_ADDRESS_REGEX',\n",
       " 'CURRENCY_REGEX',\n",
       " 'CURRENCY_SYMB_REGEX',\n",
       " 'Counter',\n",
       " 'DATE_REGEX',\n",
       " 'EMAIL_REGEX',\n",
       " 'EMOJI_REGEX',\n",
       " 'HASTAG_REGEX',\n",
       " 'MASTERCard_REGEX',\n",
       " 'MD5_SHA_REGEX',\n",
       " 'MOST_COMMON_PUNCT_REGEX',\n",
       " 'NUMBERS_REGEX',\n",
       " 'PHONE_REGEX',\n",
       " 'PoBOX_REGEX',\n",
       " 'SPECIAL_CHARACTERS_REGEX',\n",
       " 'STOPWORDS',\n",
       " 'STOPWORDS_de',\n",
       " 'STOPWORDS_en',\n",
       " 'STOPWORDS_es',\n",
       " 'STOPWORDS_fr',\n",
       " 'STOPWORDS_ru',\n",
       " 'STOPWORDS_yo',\n",
       " 'STREET_ADDRESS_REGEX',\n",
       " 'TextFrame',\n",
       " 'URL_PATTERN',\n",
       " 'USER_HANDLES_REGEX',\n",
       " 'VISACard_REGEX',\n",
       " '__builtins__',\n",
       " '__cached__',\n",
       " '__doc__',\n",
       " '__file__',\n",
       " '__generate_text',\n",
       " '__loader__',\n",
       " '__name__',\n",
       " '__numbers_dict',\n",
       " '__package__',\n",
       " '__spec__',\n",
       " '_lex_richness_herdan',\n",
       " '_lex_richness_maas_ttr',\n",
       " 'clean_text',\n",
       " 'defaultdict',\n",
       " 'digit2words',\n",
       " 'extract_btc_address',\n",
       " 'extract_currencies',\n",
       " 'extract_currency_symbols',\n",
       " 'extract_dates',\n",
       " 'extract_emails',\n",
       " 'extract_emojis',\n",
       " 'extract_hashtags',\n",
       " 'extract_html_tags',\n",
       " 'extract_mastercard_addr',\n",
       " 'extract_md5sha',\n",
       " 'extract_numbers',\n",
       " 'extract_pattern',\n",
       " 'extract_phone_numbers',\n",
       " 'extract_postoffice_box',\n",
       " 'extract_shortwords',\n",
       " 'extract_special_characters',\n",
       " 'extract_stopwords',\n",
       " 'extract_street_address',\n",
       " 'extract_terms_in_bracket',\n",
       " 'extract_urls',\n",
       " 'extract_userhandles',\n",
       " 'extract_visacard_addr',\n",
       " 'fix_contractions',\n",
       " 'generate_sentence',\n",
       " 'hamming_distance',\n",
       " 'inverse_df',\n",
       " 'lexical_richness',\n",
       " 'markov_chain',\n",
       " 'math',\n",
       " 'nlargest',\n",
       " 'normalize',\n",
       " 'num2words',\n",
       " 'random',\n",
       " 're',\n",
       " 'read_txt',\n",
       " 'remove_accents',\n",
       " 'remove_bad_quotes',\n",
       " 'remove_btc_address',\n",
       " 'remove_currencies',\n",
       " 'remove_currency_symbols',\n",
       " 'remove_custom_pattern',\n",
       " 'remove_custom_words',\n",
       " 'remove_dates',\n",
       " 'remove_emails',\n",
       " 'remove_emojis',\n",
       " 'remove_hashtags',\n",
       " 'remove_html_tags',\n",
       " 'remove_mastercard_addr',\n",
       " 'remove_md5sha',\n",
       " 'remove_multiple_spaces',\n",
       " 'remove_non_ascii',\n",
       " 'remove_numbers',\n",
       " 'remove_phone_numbers',\n",
       " 'remove_postoffice_box',\n",
       " 'remove_puncts',\n",
       " 'remove_punctuations',\n",
       " 'remove_shortwords',\n",
       " 'remove_special_characters',\n",
       " 'remove_stopwords',\n",
       " 'remove_street_address',\n",
       " 'remove_terms_in_bracket',\n",
       " 'remove_urls',\n",
       " 'remove_userhandles',\n",
       " 'remove_visacard_addr',\n",
       " 'replace_bad_quotes',\n",
       " 'replace_currencies',\n",
       " 'replace_currency_symbols',\n",
       " 'replace_dates',\n",
       " 'replace_emails',\n",
       " 'replace_emojis',\n",
       " 'replace_numbers',\n",
       " 'replace_phone_numbers',\n",
       " 'replace_special_characters',\n",
       " 'replace_term',\n",
       " 'replace_urls',\n",
       " 'string',\n",
       " 'term_freq',\n",
       " 'to_txt',\n",
       " 'unicodedata',\n",
       " 'word_freq',\n",
       " 'word_length_freq']"
      ]
     },
     "execution_count": 33,
     "metadata": {},
     "output_type": "execute_result"
    }
   ],
   "source": [
    "dir(nfx)"
   ]
  },
  {
   "cell_type": "code",
   "execution_count": 34,
   "id": "b3f8ce74",
   "metadata": {
    "scrolled": false
   },
   "outputs": [
    {
     "data": {
      "text/plain": [
       "0    Soloviev can’t stand the fact that Russia is l...\n",
       "1    Ukrainian orphans eating soup and lining up fo...\n",
       "2    A regular scene for Ukrainian families...\\nSou...\n",
       "3    A short sum up of the Russian war against Ukra...\n",
       "4    Ukraine is a progressive industrial state. Its...\n",
       "Name: Tweets, dtype: object"
      ]
     },
     "execution_count": 34,
     "metadata": {},
     "output_type": "execute_result"
    }
   ],
   "source": [
    "df['Tweets'].head()"
   ]
  },
  {
   "cell_type": "code",
   "execution_count": 35,
   "id": "ece06ad3",
   "metadata": {},
   "outputs": [
    {
     "data": {
      "text/plain": [
       "'Soloviev can’t stand the fact that Russia is losing to Ukraine, so he tries to convince the audience that it’s Polish, British and American troops that are giving the Russians a beating. https://t.co/JGwhwHGLD5'"
      ]
     },
     "execution_count": 35,
     "metadata": {},
     "output_type": "execute_result"
    }
   ],
   "source": [
    "df['Tweets'].iloc[0]"
   ]
  },
  {
   "cell_type": "markdown",
   "id": "128ae957",
   "metadata": {},
   "source": [
    "### Noise\n",
    "+ remove mentions \n",
    "+ remove hashtags\n",
    "+ urls\n",
    "+ emojis \n",
    "+ special char"
   ]
  },
  {
   "cell_type": "markdown",
   "id": "91e40adc",
   "metadata": {},
   "source": [
    "### Extract #tags from the tweets and add column to the df"
   ]
  },
  {
   "cell_type": "code",
   "execution_count": 36,
   "id": "f3f9c023",
   "metadata": {},
   "outputs": [],
   "source": [
    "df['extracted_hashtags'] = df['Tweets'].apply(nfx.extract_hashtags)"
   ]
  },
  {
   "cell_type": "code",
   "execution_count": 37,
   "id": "d49d3213",
   "metadata": {},
   "outputs": [
    {
     "data": {
      "text/html": [
       "<div>\n",
       "<style scoped>\n",
       "    .dataframe tbody tr th:only-of-type {\n",
       "        vertical-align: middle;\n",
       "    }\n",
       "\n",
       "    .dataframe tbody tr th {\n",
       "        vertical-align: top;\n",
       "    }\n",
       "\n",
       "    .dataframe thead th {\n",
       "        text-align: right;\n",
       "    }\n",
       "</style>\n",
       "<table border=\"1\" class=\"dataframe\">\n",
       "  <thead>\n",
       "    <tr style=\"text-align: right;\">\n",
       "      <th></th>\n",
       "      <th>Users</th>\n",
       "      <th>Date</th>\n",
       "      <th>Tweets</th>\n",
       "      <th>Source</th>\n",
       "      <th>extracted_hashtags</th>\n",
       "    </tr>\n",
       "  </thead>\n",
       "  <tbody>\n",
       "    <tr>\n",
       "      <th>0</th>\n",
       "      <td>visegrad24</td>\n",
       "      <td>2022-12-01</td>\n",
       "      <td>Soloviev can’t stand the fact that Russia is l...</td>\n",
       "      <td>Twitter for iPhone</td>\n",
       "      <td>[]</td>\n",
       "    </tr>\n",
       "    <tr>\n",
       "      <th>1</th>\n",
       "      <td>visegrad24</td>\n",
       "      <td>2022-12-01</td>\n",
       "      <td>Ukrainian orphans eating soup and lining up fo...</td>\n",
       "      <td>Twitter for iPhone</td>\n",
       "      <td>[]</td>\n",
       "    </tr>\n",
       "    <tr>\n",
       "      <th>2</th>\n",
       "      <td>ukraine_world</td>\n",
       "      <td>2022-12-01</td>\n",
       "      <td>A regular scene for Ukrainian families...\\nSou...</td>\n",
       "      <td>Twitter Web App</td>\n",
       "      <td>[]</td>\n",
       "    </tr>\n",
       "    <tr>\n",
       "      <th>3</th>\n",
       "      <td>ukraine_world</td>\n",
       "      <td>2022-12-01</td>\n",
       "      <td>A short sum up of the Russian war against Ukra...</td>\n",
       "      <td>Twitter Web App</td>\n",
       "      <td>[]</td>\n",
       "    </tr>\n",
       "    <tr>\n",
       "      <th>4</th>\n",
       "      <td>ukraine_world</td>\n",
       "      <td>2022-12-01</td>\n",
       "      <td>Ukraine is a progressive industrial state. Its...</td>\n",
       "      <td>Twitter Web App</td>\n",
       "      <td>[#AgainstRussianLies]</td>\n",
       "    </tr>\n",
       "  </tbody>\n",
       "</table>\n",
       "</div>"
      ],
      "text/plain": [
       "           Users        Date  \\\n",
       "0     visegrad24  2022-12-01   \n",
       "1     visegrad24  2022-12-01   \n",
       "2  ukraine_world  2022-12-01   \n",
       "3  ukraine_world  2022-12-01   \n",
       "4  ukraine_world  2022-12-01   \n",
       "\n",
       "                                              Tweets              Source  \\\n",
       "0  Soloviev can’t stand the fact that Russia is l...  Twitter for iPhone   \n",
       "1  Ukrainian orphans eating soup and lining up fo...  Twitter for iPhone   \n",
       "2  A regular scene for Ukrainian families...\\nSou...     Twitter Web App   \n",
       "3  A short sum up of the Russian war against Ukra...     Twitter Web App   \n",
       "4  Ukraine is a progressive industrial state. Its...     Twitter Web App   \n",
       "\n",
       "      extracted_hashtags  \n",
       "0                     []  \n",
       "1                     []  \n",
       "2                     []  \n",
       "3                     []  \n",
       "4  [#AgainstRussianLies]  "
      ]
     },
     "execution_count": 37,
     "metadata": {},
     "output_type": "execute_result"
    }
   ],
   "source": [
    "df.head()"
   ]
  },
  {
   "cell_type": "code",
   "execution_count": 38,
   "id": "a8b10a56",
   "metadata": {},
   "outputs": [],
   "source": [
    "tags = list(filter(None, df['extracted_hashtags']))"
   ]
  },
  {
   "cell_type": "code",
   "execution_count": 39,
   "id": "99e7ffa2",
   "metadata": {
    "scrolled": false
   },
   "outputs": [
    {
     "data": {
      "text/plain": [
       "[['#AgainstRussianLies'],\n",
       " ['#Ukrainian', \"#Russia's\"],\n",
       " ['#Ukrainians.', '#Ukrainian', '#StandWithUkraine'],\n",
       " ['#StandWithUkraine'],\n",
       " [\"#Russia's\", '#Ukraine️?', '#RussiaIsATerroristState', '#RussiaUkraineWar']]"
      ]
     },
     "execution_count": 39,
     "metadata": {},
     "output_type": "execute_result"
    }
   ],
   "source": [
    "tags[:5]"
   ]
  },
  {
   "cell_type": "code",
   "execution_count": 40,
   "id": "6cb247ad",
   "metadata": {
    "scrolled": true
   },
   "outputs": [
    {
     "name": "stdout",
     "output_type": "stream",
     "text": [
      "['#AgainstRussianLies', '#Ukrainian', \"#Russia's\", '#Ukrainians.', '#Ukrainian', '#StandWithUkraine', '#StandWithUkraine', \"#Russia's\", '#Ukraine️?', '#RussiaIsATerroristState', '#RussiaUkraineWar', '#Ukraine’s', '#Russia,', '#UkraineWillWin', '#Russia', '#RussiaIsATerroristState,', '#RussianUkrainianWar', '#Russia', '#RussiaIsATerroristState', '#Ukraine.', '#Russian', '#Russia’s', '#AgainstRussianLies', '#Russia', \"#Ukraine's\", \"#Russia's\", '#Ukraine.', '#russiaisateroriststate', \"#Russia's\", '#Ukrainians,', '#Russian', '#Ukraine,', '#NATO', '#ForMin', '#StopRussiaNOW', '#Ukraine.', '#Russian', '#Russia’s', '#Ukraine', '#Ukrainian', '#Russian', '#StandWithUkraine️', '#RussiaUkraineWar', '#RussiaIsATerroristState', '#RussiaUkraineWar,', '#Barbados!', '#NorthStream2', '#RussiaUkraineWar', '#StopRussianAggression', '#NATO', '#ForMin', '#StandWithUkraine', '#Ukraine.', '#Russian', '#Russia’s', '#RussiaInvadedUkraine', '#StopRussia', '#Russia', '#RussiaInvadedUkraine', '#RussiaUkraineWar', '#Russia', '#RussiaIsATerroristState', '#UkraineWillWin', '#RussiaIsLosing', '#Russia,', '#AgainstRussianLies', '#Infowatch', '#RussiaUkraineWar', '#AgainstRussianLies', '#StandWithUkraine', '#RussianWarCrimes', '#AgainstRussianLies', '#UkraineWillWin', '#Crimea', '#Ukraine.', '#Russian', '#Russia’s', '#RussiaisATerroistState', '#UkraineRussiaWar️', '#HolodomorIsGenocide', '#AgainstRussianLies', '#UkraineWillWin', '#United24', '#HolodomorIsGenocide', '#Holodomor', '#Ukrainian', '#November,', '#Ukraine', '#Holodomors,', '#Ukrainian', '#NATO', '#ForMin', '#Ukraine,', '#StopEcocideUkraine', '#UkraineWorldTestimony', '#MemoryBook', '#ArmedForcesofUkraine', '#SlavaUkraini', '#UkraineWillWin', '#RussiaIsATerroristState', '#RussianUkrainianWar', '#Russian', '#RussiaIsLosing', '#Kherson.', '#Kherson?', '#AgainstRussianLies', '#Infowatch', '#RussianUkrainianWar', '#ArmUkraineNow', '#FreedomIsOurReligion', '#Ukraine,', '#Russian', '#EqualRightsCoalition,', '#LGBTrightsarehumanrights👇', '#UkraineWillWin', '#StopRussia', '#RussiaInvadedUkraine', '#AgainstRussianLies', '#UkraineWillWin', '#AgainstRussianLies', '#RussiaIsATerroristState', '#Russia', '#Putin', '#ATACMSForUkraine', '#russiaisateroriststate', '#RussiaIsATerroristState', '#ATACMSForUkraine', '#RussiaIsATerroristState', '#ATACMSForUkraine', '#PutinIsSick', '#Russia', '#RussiaIsATerroristState', '#UkraineWillWin', '#Ukraine.', '#Russian', '#Russia’s', '#AgainstRussianLies', '#UkraineWillWin', '#Ukrainian', '#ukrainecounteroffensive', '#Russia', '#RussiaIsLosing', '#UkraineWillWin', '#UkraineWillResist', '#Ukraine.', '#Russian', '#Russia’s', '#Kherson?', '#Russian', '#RussiaIsATerroristState', '#RussiaUkraineWar', '#Russia', '#Ukraine', '#AgainstRussianLies', '#InfoWatch', '#RussiaIsATerroristState', '#AgainstRussianLies', '#Ukraine.', '#Russian', '#Russia’s', '#WorldChildrensDay,', '#RussianWarCrimes', '#Ukraine:', '#StandWithUkraine️', '#StopRussianAggression', '#ArmUkraineNow', '#StopRussia', '#WarInUkraine', '#KhersonisUkraine', '#UkraineWillWin', '#StopRussianAggression', '#Ukraine.', '#Russian', '#Russia’s', '#Ukrainian', '#MonacoRedCross', '#AgainstRussianLies', '#InfoWatch', '#Russia', '#StopRussia', '#RussiaInvadedUkraine', '#RussianUkrainianWar', '#Kherson', '#Ukraine.', '#Russian', '#Russia’s', '#Russia', '#AgainstRussianLies', '#RussiaIsLosing', '#Ukraine', '#NATO', '#UkrainianArmy', '#Ukrainian', '#NATO', '#RussianUkrainianWar', '#Kyiv', '#Russian', '#Ukrainian', '#Ukrainian', '#Ukrainian', '#podcast', '#Kherson', '#StopRussia', '#UkraineWarNews', '#Dnipro', '#RussianWarCrimes', '#ArmUkraineNow.', '#RussiaIsATerroristState', '#Poland', '#Kakhovka,', '#Kherson', '#Russians', '#RussiaIsATerroristState', '#RussiaIsATerroristState', '#Russia', '#Ukraine.', '#RussiaIsATerroristState', '#RussiaIsATerroristState', '#G20', '#Ukraine', '#AgainstRussianLies', '#RussiaUkraineWar', \"#Russia's\", '#RussiaIsATerroristState', '#Ukraine,', '#Russia', '#RussiaUkraineWar', '#G19', '#Russia', '#RussianWarCrimes', '#RussiaIsATerroristState', '#UAGenerals', '#NATO', '#Ukraine.', '#Russian', '#Russia’s', '#G20', \"#Russia's\", '#Ukraine.', '#RussiaUkraineWar', '#Ukraine', '#Russia', '#RussiaIsATerroristState', '#RussianArmy', '#ArmedForcesofUkraine', '#Russia', '#Kherson', '#Kharkiv', '#Kyiv.', '#RussianUkrainianWar', '#UkraineUnderAttack', '#Kherson,', '#RussiaWarCrimes.', '#RussianUkrainianWar', '#BREAKING', '#BREAKING', '#Russia', '#RussiaIsATerroristState', '#RussianUkrainianWar', '#Poland', '#Poland', '#AgainstRussianLies', '#RussiaIsATerroristState', '#UkrainePolandStandUnited', '#Ukraine,', '#RussianUkrainianWar', '#RussiaIsATerroristState', '#Poland', '#Poland.', '#RussiaIsATerroristState', '#Poland.', '#StopRussiaNOW', '#Russia', '#Ukraine,', '#Ukraine,', '#Russia', '#RussianUkrainianWar', '#RussiaIsATerroristState', '#Russia', '#Ukraine,', '#RussianAggression', '#G20', '#Russia.', '#AgainstRussianLies', '#RussiaIsATerroristState', '#RussiaIsATerroristState', '#Russia', '#Ukraine.', '#Ukrainian', '#RussiaIsATerroristState', '#ArmUkraineNow', '#Ukraine,', '#Russia,', '#RussiaIsATerroristState', '#G19', '#G20', '#RussiaIsATerroristState', '#GrainfromUkraine,', '#Ukraine.', '#Russian', '#Russia’s', '#NATO', '#UkraineWorldTestimony', '#Kherson', '#G20Summit', '#BREAKING', '#StandWithUkraine', '#Ukrainian', '#Kherson!', '#SlavaUkraini', '#StandWithUkraine️', '#StandForFreedom', '#StandWithUkraine️', '#StopRussianAggression', '#StopEcocideUkraine', '#Ukraine', '#UkraineWillWin', '#BREAKING:', '#NATO', '#GloryToUkraine', '#RussiaInvadedUkraine', '#StopRussianAggression', '#RussiaisATerroistState', '#Kherson.', '#StandWithUkraine️', '#Ukraine.', '#Russian', '#Russia’s', '#Ukrainian', '#StandWithUkraine️', '#Ukraine.', '#Russian', '#Russia’s', '#Russian', '#RussianWarCrimes', '#Ukraine.', '#Russian', '#Russia’s', '#AgainstRussianLies', '#Ukrainians', '#Ukraine', '#Kherson', '#StandWithUkraine️', '#KhersonOblast', '#Russia', '#KhersonisUkraine', '#Ukraine', '#Kherson', '#ArmedForcesofUkraine:', '#KhersonisUkraine\"', '#UkraineWillWin', '#Kherson.', '#UkraineWillWin', '#Khersonoffensive', '#Russian', '#RussianUkrainianWar', '#IndependenceDay!', '#Russian', '#Ukraine', '#coronavirus', '#RussianUkrainianWar', '#AgainstRussianLies', '#Ukraine.', '#Russian', '#Russia’s', '#RussianUkrainianWar', \"#Ukraine's\", '#Russia', '#Kherson', '#RussianUkrainianWar', '#Ukraine', '#Ukrainian', '#StandWithUkraine️', '#4', '#Ukraine.', '#Russian', '#Russia’s', '#RussiaIsATerroristState', '#Ukrainian', '#StandWithUkraine️', '#Russian', '#Ukrainian', '#StandWithUkraine️', '#Ukrainian', '#Ukraine.', '#Russian', '#Russia’s', '#UAarmy;', '#UAarmy', '#Ukrainian', '#Ukrainian', '#Ukrainian', '#Zaporizhzhia', '#Ukraine.', '#StandWithUkraine️', '#Ukraine.', '#Ukrainian', '#FreedomIsOurReligion', '#Ukraine.', '#Russian', '#Russia’s', '#ArmUkraine', '#UkraineWillWin', '#RussiaInvadedUkraine', '#Russia’s', '#UkraineWorldTestimony', '#UkraineWorldAnalysis', '#UkraineWillWin', '#Ukrainian', '#Russia', '#Ukraine', '#Ukrainians', '#StopRussianAggression', '#RussiaIsATerroristState', '#RussianWarCrimes', '#Kherson', '#Mariupol', '#RussianWarCrimes', '#StopRussianAggression', '#RussiaIsATerroristState', '#RussianWarCrimes', '#Ukrainians.', '#Russia”', '#Ukraine.', '#Russian', '#Russia’s', '#UkraineWorldAnalysis:', '#COP27', '#COP27', '#StandWithUkraine️', '#LifeWillPrevail', '#StopRussianAggression', '#RussiaIsATerroristState', '#Ukraine.', '#Russian', '#Russia’s', '#AgainstRussianLies', '#StandWithUkraine️', '#Kherson.', '#StopRussianAggression', '#Ukraine.', '#Russian', '#Russia’s', '#AgainstRussianLies', '#Kharkiv', '#Ukrainian', '#Russian', '#Russia’s', '#UkraineWorldTestimony', '#UkraineWorldAnalysis', '#UkraineWillWin', '#russiaisaterroriststate', '#Ukraine.', '#Russian', '#Russia’s', '#Disinformation', '#Russia', '#Ukraine', '#UkraineWillWin', '#Kherson', '#Zaporizhzhia', '#Ukraine', '#Azovstaldefenders.', '#Ukrainian', '#Russian', '#Russia:', '#RussianUkrainianWar', '#Ukraine.', '#Russian', '#Russia’s', '#RussianWarCrimes', '#GenocideOfUkrainians', '#StopRussia', '#AgainstRussianLies', '#Ukrainian', '#InfoWatch', '#AgainstRussianLies', '#Ukraine.', '#Russian', '#Russia’s', '#Ukraine.', '#Ukrainian', '#Ukraine,', '#Ukraine', '#BREAKING', '#Ukraine', '#UkraineForFoodSecurity', '#RussiaFamineGames', '#Russian', '#Russian', '#Ukrainian', '#Russia', '#Russia', '#Belarus.', '#Russia', '#Russia’s', '#InfoWatch', '#AgainstRussianLies', '#RussiaIsATerroristState', '#Mariupol', '#Russia.', '#Russia', '#InfoWatch', '#AgainstRussianLies', '#RussiaUkraineWar', '#RussiaIsATerroristState', '#CrimeaIsUkraine,', '#UkraineWorldAnalysis:', '#Ukraine.', '#Russian', '#Russia’s', '#StandWithUkraine️', '#UAGenerals', '#BlackSeaGrainInitiative.', '#StandWithUkraine', '#RussiaIsATerroristState', '#Russia', '#RussiaIsLosing,', '#Ukraine', '#RussiaIsATerroristState', '#Ukraine’s', '#RussiaIsATerroristState', '#ArmUkraineNow', '#CloseUAskyNOW', '#Ukraine.', '#Russian', '#Russia’s', '#RussiaIsATerroristState', '#Ukraine.', '#Russian', '#Russia’s', '#russiaisateroriststate', '#BREAKING', '#UkraineWillWin', '#GloryToUkraine', '#StandWithUkraine', '#Ukraine.', '#Russian', '#Russia’s', '#ukrainecounteroffensive', '#StopRussia', '#StopRussianAggression', '#Ukraine’s', '#Ukrainians', '#WeAreUkraine', '#Ukraine.', '#Russian', '#Russia’s', '#RussiaIsATerroristState', '#Ukraine', '#RussiaIsATerroristState', \"#Putin's\", '#Valdai:', '#Ukraine', '#Russia', '#AgainstRussianLies', '#Ukraine', '#Ukrainian', '#Ukrainian', '#Ukraine', '#Russia', '#RussianWarCrimes', '#Valdai', '#russiaisaterrorisstate', '#Putin', '#RussiaInvadedUkraine,', '#Ukraine,', '#Taiwan', '#russiaisaterrorisstate', '#StopRussiaNOW', '#StVincentAndTheGrenadines.', '#Russia,', '#Ukraine', '#russiaisaterrorisstate', '#StopRussia', '#RussianWarCrimes', '#UAarmy', '#UAGenerals', '#StopRussianAggression', '#Ukraine.', '#Russian', '#Russia’s', '#UkraineWillWin', '#StandWithUkraine', '#Ukraine.', '#Russian', '#Russia’s', '#Ukraine', '#Russia', '#Romania', '#RussianWarCrimes', '#UkraineWillWin', '#Ukraine.', '#Russian', '#Russia’s', '#.', '#Kyiv', '#AgainstRussianLies', '#RussiaIsATerroristState', '#RussiaUkraineWar', '#OSCE', '#StandWithUkraine', '#UkraineWorldTestimony', '#Russia’s', '#RussiasFamineGames', '#Russia’s', '#UNDay2022', '#Russian', '#AgainstRussianLies', '#Ukraine.', '#Russian', '#Russia’s', '#Azovstal’s', '#Ukraine.', '#Russian', '#Russia’s', '#Russian', '#Kyiv.', '#Russia', '#Ukrainians', '#RussiaIsATerroristState', '#StopRussianWar', '#Russia', '#Ukraine.', '#Russian', '#Russia’s', '#Russia', '#Ukrainian', '#Russia', '#Kherson', '#Zaporizhzhia', '#Ukraine.', '#Russian', '#Russia’s', '#StopRussia', '#RussiaInvadedUkraine', '#UAarmy', '#RussiaTerroristState', '#Lithuania’s', '#EU', '#Ukraine', '#Russia.', '#RussiaisATerroistState', '#RussianUkrainianWar', \"#Russia's\", '#Ukrainian', '#StopRussia', '#RussiaUkraineWar', '#Russia,', '#ArmedForcesofUkraine', '#Ukraine.', '#Russian', '#Russia’s', '#UkraineWorldTestimony:', '#UkraineWorldAnalysis,', '#Russia', '#Ukraine.', '#BREAKING:', '#Ukraine.', '#Russian', '#Russia’s', '#Donetsk,', '#Luhansk,', '#Kherson', '#Zaporizhzhia', '#RussiaIsATerroristState', '#BREAKING', '#UkraineWorldAnalysis', '#RussiaIsATerroristState', '#GloryToUkraine', '#StandWithUkraine️', '#StopRussianAggression', '#Russia', '#StopRussia', '#RussianWarCrimes', '#russiaisaterrorisstate', '#StopRussianAgression', '#Russia', '#StopRussia', '#Ukraine.', '#Russian', '#Russia’s', '#StopRussianAgression', '#NATO', '#Denmark', '#Latvia', '#UAarmy', '#Ukraine!', '#Ukrainian', '#Russian', '#SlavaUkraini!', '#Ukraine', '#Russia’s', '#Kyiv', '#RussiaIsATerroristState', '#Kyiv,', '#Russia', '#CloseUAskyNOW', '#StopRussiaNow', '#Ukraine.', '#Russian', '#Russia’s', '#UkraineWorldAnalysis:', '#Ukraine.', '#Kyiv.', '#Russia', '#RussiaisATerroistState', '#StopRussianAgression', '#Ukrainian', '#Ukraine', '#Ukraine.', '#Russian', '#Russia’s', '#Ukraine.', '#Russian', '#Russia’s', '#Russia,', '#RussianUkrainianWar', '#Russian', '#RussianUkrainianWar', '#Russia,', '#RussianUkrainianWar', '#Russia,', '#AgainstRussianLies', '#GreyZone', '#Ukraine❞', '#NATO', '#UNGA', '#DefMin', '#UAgenerals', '#UAarmy.', '#BREAKING', '#RussiaIsATerrorristState', '#Ukraine.', '#Russian', '#Russia’s', '#Russia', '#Avdiivka,', '#RussiaIsATerroristState', '#BREAKING:', '#Russia', '#Avdiivka,', '#Russian', '#StandWithUkraine️', '#UAarmy', '#Donetsk,', '#Luhansk,', '#Crimea,', '#Zaporizhzhia', '#Kherson', '#Russia', '#RussiaIsATerroristState', '#RussiaUkraineWar', '#Ukrainians', '#ArmedForces', '#Ukraine', '#Kherson', '#Luhansk', '#Ukraine.', '#Russian', '#Russia’s', '#NATO', \"#Russia's\", '#Ukraine', '#Russia', '#StopRussiaNOW', '#RussiaisATerroistState', '#StandWithUkraine', '#RussiaIsATerrorristState', '#RussiaUkraineWar', '#Russian-#Ukrainian', '#AgainstRussianpropaganda', '#RussiaUkraineWar', '#Russia', '#Zaporizhzhia', '#RussiaisATerroistState', '#StopRussiaNOW', '#RussiaIsATerroristState.', '#UkraineUnderAttaсk', '#ArmUkraineNow', '#StopRussiaNOW', '#Russia', '#StopRussiaNOW', '#RussianMobilization', '#RussianUkrainianWar', '#Russia', '#Ukraine', '#RussiaIsATerroristState', '#RussianWarCrimes', '#Russia’s', '#RussiaIsATerroristState', '#UkraineUnderAttaсk', '#russiaisateroriststate', '#StandWithUkraine', '#StopRussiaNOW', '#AgainstRussianLies', '#russiaisaterrorisstate', '#UkraineUnderAttaсk', '#russiaisateroriststate', '#Ukraine.', '#ArmUkraineNow', '#BREAKING', '#BREAKING:', '#Zaporizhzhia.', '#Dnipro', '#Kyiv.', '#Ukraine.', '#ArmUkraineNow', '#BREAKING', '#Zaporizhzhia,', '#Ukraine', '#Zaporizhzhia', '#Ukraine.', '#Russian', '#Russia’s', '#Ukraine', '#Belarus', '#Zaporizhzhia.', '#Ukrainian', '#Ukraine.', '#Russian', '#Russia’s', '#Ukraine', '#StopRussianAgression', '#BREAKING:', '#Ukraine.', '#Russian', '#Russia’s', '#Ukraine', '#RussiaUkraineWar', '#Mariupol,', '#Russia,', '#RussianWarCrimesInUkraine', '#RussiaUkraineWar', \"#Russia's\", '#Ukraine.', '#Zaporizhia.', '#russiaisateroriststate', '#StopRussia', '#Ukrainian', '#UkraineWillWin', '#RussiaUkraineWar', '#Ukraine.', '#RussiaUkraineWar', '#StandWithIUkraine', '#StopRussiaNOW', '#StandWithUkraine', '#StopRussiaNOW', '#RussianWarCrimes', '#Ukraine.', '#Russian', '#Russia’s', '#StandWithUkraine', '#ukrainecounteroffensive', '#StandWithUkraine', '#Zaporizhia', '#Ukraine’s', '#RussiaInvadedUkraine.', '#UkraineWillWin', '#AgainstRussianLies', '#GreyZone', '#StopRussiaNOW', '#Ukrainian', '#Russia,', '#AgainstRussianLies', '#GreyZone', '#LeaveUkraine', '#RussiaUkraineWar', '#Russia.', '#StopRussiaNOW', '#Ukraine.', '#LeaveUkraine', '#RussiaUkraineWar', '#Ukraine', '#Ukrainian', '#Ukraine', '#Russia', '#Ukraine.', '#Russian', '#Russia’s', '#UkraineArmy', '#ArmedForcesofUkraine', '#RussiaIsATerroristState', '#RussiaIsATerroristState', '#Lyman', '#UkraineWillWin', '#UkraineWorldTestimony', '#Ukrainian', '#Ukraine.', '#Russian', '#Russia’s', '#Ukrainian', '#Russian', '#Ukraine.', '#Russian', '#Russia’s', '#OTD', '#Russia', '#RussianWar.', '#Ukraine', '#Russia', '#ArmUkraineNow', '#SanctionRussia', '#Ukraine.', '#Russian', '#Russia’s', '#StopRussiaNOW', '#UAarmy', '#BREAKING:', '#Zaporizhzhia', '#Russian', '#ZNPP.', '#UAarmy', '#Lyman', '#Russia', '#Ukrainian', '#Ukraine', '#StandWithUkraine️', '#Ukraine.', '#Russian', '#Russia’s', '#BREAKING:', '#Russia’s', '#Ukraine.', '#Russian', '#UAarmy', '#UkraineWillWin', '#Russia’s', '#Ukraine.', '#Russian', '#BREAKING', '#StandWithUkraine', '#BabynYar.', '#StandWithUkraine', '#Lyman', '#RussiaInvadedUkraine', '#UkraineWillWin', '#TIME100NEXT', '#GloryToUkraine', '#RussianMobilization', '#UAarmy', '#RussianMobilization', '#Russia', '#BREAKING', '#RussiaIsATerroristState', '#UkraineWillWin', '#StopRussianAgression', '#RussiaInvadedUkraine', '#StandWithUkraine️', '#Russia’s', '#Ukraine.', '#Russian', '#Russia', '#UkraineWillWin', '#Russia,', '#Ukraine.', '#Russia', '#Ukraine.', '#RussiaInvadedUkraine', '#StopRussia', '#Russia’s', '#Ukraine.', '#Russian', '#StopRussia', '#RussianMobilization', '#Azovstal,', '#UkraineWillWin', '#NATO', '#Ukraine.', '#UAarmy', '#NATO,', '#Ukraine🇺🇦,', '#Russia’s', '#Ukraine.', '#Russian', '#UAarmy', '#Russia’s', '#Ukraine.', '#Russian', '#Russia’s', '#Ukraine.', '#Russian', '#StopRussianAgression', '#StopRussia', '#Russia’s', '#Ukraine.', '#Russian', '#CrimeaIsUkraine', '#UkraineWillWin', '#StopRussiaNOW', '#Ukraine', '#Mariupol,', '#Russia’s', '#Ukraine.', '#Russian', '#Ukraine', '#UkraineWillWin', '#RussianArmy', '#UkraineWillWin', '#StopRussia', '#RussiaIsATerroristState', '#UkraineWillWin', '#Azovstaldefenders', '#Ukraine❞', '#NATO', '#UNGA', '#UNGA77', '#UkraineWorldAnalysis:', '#Russia’s', '#Ukraine.', '#Russian', '#BREAKING', '#BREAKING', '#StopRussiaNOW', '#StandWithUkraine', '#Russia', '#Ukraine.', '#BREAKING', '#Russia’s', '#Ukraine.', '#Russian', '#RussiaInvadedUkraine', '#RussiaInvadedUkraine', '#StopRussia', '#UkraineWillWin', '#StopRussianAggression', '#UAarmy', '#UkraineWorldAnalysis:', '#Izyum.', '#IzyumMassacre', '#Russia’s', '#Ukraine.', '#Russian', '#Russia', '#Izyum', '#IzyumMassacre', '#IzyumMassacre', '#Izyum', '#Russia’s', '#Ukraine.', '#Russian', '#IzyumMassacre', '#RussianAggression', '#IzyumMassacre', '#GloryToUkraine', '#SupportUkraine', '#Russia’s', '#Ukraine.', '#Russian', '#UkraineWillWin', '#StandWithUkraine️', '#Izium.', '#StandWithUkraine', '#RussiaIsATeroristState', '#RussianWarCrimes', '#Russia’s', '#Ukraine.', '#Russian', '#Zaporizhzhia', '#StopRussia', '#StopRussianAggression', '#RussiaInvadedUkraine', '#GloryToUkraine', '#StopRussia', '#Kupyansk.', '#RussiaIsATerroristState', '#Russia', '#Ukraine', '#Ukraine.', '#RussiaUkraineWar', '#SlavaUkraini', '#UkraineWillWin', '#Russia’s', '#Ukraine.', '#Russian', '#RussiaIsATerroristState', '#KryvyiRih', '#Inhulets', '#RussiaUkraineWar', '#RussiaIsATerroristState', '#Russia', '#RussiaIsATerroristState', '#Russia', '#Inhulets', '#KryvyiRih)', '#Russia', '#Ukrainian', '#KharkivOblast.', '#Russian', '#RussianUkrainianWar', '#UkrainianCounteroffensive', '#Kharkiv', '#RussiaUkraineWar', '#UkraineWorldAnalysis.', '#Ukraine,', '#Ukraine', '#Russia,', '#Kremlin', '#StandWithUkraine', '#StopRussiaNOW', '#Kharkiv', '#StandWithUkraine', '#Izyum,', '#Ukraine.', '#Russia’s', '#Ukraine.', '#Russian', '#RussianArmy', '#Russia’s', '#Ukraine.', '#Russian', '#RussiaInvadedUkraine', '#UAarmy', '#Russia’s', '#Ukraine’s', '#StandWithUkraine️', '#StopRussianWar', '#Russia’s', '#Ukraine.', '#Russian', '#UkraineWorldAnalysis:', '#UkraineWillWin', '#russiaisateroriststate', '#Russia', '#KharkivOblast,', '#russiaisateroriststate', '#UkraineUnderAttack', '#UkraineUnderAttack', '#Ukrainian', '#SlavaUkraini', '#UkraineArmedForces', '#SlavaUkraine', '#RussiaUkraineWar', '#Russian', '#Ukraine:', '#StandWithUkraine', '#Russia’s', '#Ukraine.', '#StandForFreedom', '#UAarmy', '#KharkivOblast.', '#RussiaUkraine', '#StandWithUkraine️', '#StandWithUkraine', '#Ukraine', '#Ukraine', '#Russian', '#Ukrainian', '#KharkivOblast.', '#KharkivOblast.', '#UkrainianArmy', '#UkrainianArmedForces', '#Russia’s', '#Ukraine.', '#Russian', '#Ukraine', '#UkraineWillWin', '#RussiaUkraineWar', '#StandForFreedom', '#StandWithUkraine', '#Russia’s', '#Ukraine.', '#Russian', '#Ukrainian.', '#Ukraine', '#Donetsk', '#Luhansk', '#Crimea.', '#UkrainianArmy', '#Ukrainian', '#Ukraine', '#SlavaUkraini', '#StandWithUkraine️', '#Russia’s', '#Ukraine.', '#Russian', '#Russian', '#Ukrainian', '#UkraineWorldAnalysis', '#UkraineWillWin', '#Olenivka,', '#Azov', '#Mariupol?', '#Ukrainian', '#UAarmy', '#Russia’s', '#Ukraine.', '#Russian', '#Ukrainian', '#UAarmy', '#UkraineWorldTestimony', '#Russia’s', '#Ukraine.', '#Russian', '#Ukrainian', '#UkraineWillWin', '#Ukrainians,', '#StandWithUkraine', '#StopRussia', '#Russians', '#Ukrainian-related', '#Ukrainians', '#Russia’s', '#Ukraine.', '#Russian', '#ZaporizhzhyaNPP.', '#RussiaIsATerroristState', '#UkraineWorldTestominy', '#Mariupol,', '#RussiaInvadedUkraine', '#Russia’s', '#Ukraine.', '#Russian', '#UkraineWorldAnalysis', '#StopRussiaNOW', '#Ukraine’s', '#Russia.', '#Russia’s', '#Ukraine.', '#Russian', '#UAarmy', '#Russia', '#Dzhelyal', '#Russia’s', '#Ukraine.', '#Russian', '#BREAKING', '#Russia’s', '#Ukraine.', '#Russian', '#ArmUkraineNow', '#Ukrainian', '#StandWithUkraine', '#Ukraine', '#UAarmy', '#Russia’s', '#Ukraine.', '#Russian', '#UkraineWorldAnalysis', '#UkraineWillWin', '#StopRussianAggression', '#RussiaInvadedUkraine', '#Mariupol', '#BREAKING', '#RussiaIsATerroristState', '#Ukrainian', '#Russian', '#Russia’s', '#Ukraine.', '#Russian', '#UkraineWorldAnalysis', '#UkraineWorldAnalysis', '#BREAKING', '#Russia', '#Ukrainian', '#Russian', '#Ukraine.', '#Russia’s', '#Ukraine.', '#Russian', '#Russian', '#WarriorGames', '#Kherson,', '#StandWithUkraine', '#Ukrainian', '#Russian', '#Ukraine.', '#Ukraine4FoodSecurity', '#RussiasFamineGame', '#StopRussiaNOW', '#Russia’s', '#Ukraine.', '#Russian', '#UkraineWorldTestimony', '#UkraineWillWin', '#Russia', '#Melitopol', '#RussiaUkraineWar', '#Ukraine\"', '#Kharkiv.', '#StandWithUkraine', '#RussiaUkraineWar', '#RussiaIsATerroristState', '#ArmedForcesofUkraine.', '#UkraineWillWin', '#Russia’s', '#Ukraine.', '#Russian', '#Ukraine', '#Russia’s', '#Russia’s', '#Ukraine.', '#Russian', '#GreyZone,', '#AgainstRussianLies.', '#UkraineWorldAnalysis', '#Russia’s', '#Ukraine.', '#Russian', '#StopRussianAggression', '#Kharkiv', '#StopRussiaNOW', '#RussiaIsATerroristState', '#Russia’s', '#Ukraine.', '#Russian', '#Russia’s', '#RussiasFamineGame', '#UkraineWillWin', '#UkraineWorldAnalysis', '#visabanforrussians', '#UkraineWorldTestimony:', '#Russia', '#Chaplyne', '#ArmUkraineNow', '#StandWithUkraine️', '#StopRussianAggression', '#StandWithUkraine️', '#UkraineWorldAnalysis', '#UAarmy', '#BREAKING:', '#BREAKING', '#NATO', '#Ukraine', '#Russia’s', '#Ukraine.', '#Russian', '#Ukraine’s', '#Zaporizhzhya', '#RussiaIsATerroristState', '#Ukraine', '#Russia', '#Ukrainian', '#Russia', '#Russian', '#Ukraine', '#Ukrainian', '#Mariupol.', '#IndependenceDay2022.', '#UkraineWillWin', '#Russian', '#Kharkiv', '#UkraineWillWin', '#RussiaIsATerroristState', '#UAarmy', '#StopRussianAggression', '#Russia’s', '#Ukraine.', '#Russian', '#StandForFreedom', '#Ukraine', '#Ukrainian', '#UkraineWillWin', '#IndependenceDay2022', '#IndependenceDay2022', '#UkraineWillWin', '#EU', '#RussianUkrainianWar', '#Ukrainian', '#StandWithUkraine️', '#StopRussianWar', '#BREAKING', '#Russia’s', '#Ukraine.', '#Russian', '#Russia', '#RussiasFamineGame.', '#Ukraine', '#Ukrainian', '#Ukraine', '#RussiasFamineGame', '#StandWithUkraine', '#UkraineWorldTestimony', '#Russia’s', '#Ukraine.', '#Russian', '#Ukrainian', '#Usyk', '#UsykJoshua2', '#RussiainvadesUkraine', '#StopRussianAggression', '#CrimeaIsUkraine', '#StopRussianAggression', '#Ukrainian', '#FreedomIsOurReligion', '#Russia’s', '#Ukraine.', '#Russian', '#RussiaIsATerroristState', '#UkraineWorldTestimony', '#Kharkiv', '#Russian', '#Ukraine️.', '#WorldhumanitarianDay', '#Russian', '#Ukraine', '#UkraineWorldAnalysis', '#Russia’s', '#Ukraine.', '#Russian', '#Zaporizhzhia', '#Russia’s', '#Russia', '#Putin”', '#Russia', '#Russian', '#UkraineWorldAnalysis', '#Kharkiv,', '#Russia’s', '#Ukraine.', '#Russian', '#RussiaInvadedUkraine', '#StopRussianAggression', '#Kharkiv', '#StopRussia', '#BanRussianTourists', '#StopRussianAggression', '#UkraineUnderAttack', '#StandWithUkraine', '#StopRussianAgression', '#russiaisaterroriststate', '#Russia’s', '#Ukraine.', '#Russian', '#Mariupol', '#RussianPropaganda', '#NuclearTerrorism', '#RussianUkrainianWar', '#Russia’s', '#Ukraine.', '#Russian', '#RussiaUkraineWar,', '#RussianArmy', '#Russia', '#ZaporizhiaNPP', '#RussiaIsATerrorristState', '#StopRussiaNOW', '#Russian', '#BanrussianVisas', '#StandWithUkraine️', '#Ukraine', '#Russia', '#UkraineWillWin', '#Russia’s', '#Ukraine.', '#Russian', '#TopGun', '#Russia’s', '#Ukraine', '#Ukrainian', '#Ukraine', '#RussiasHungerGames', '#StandWithUkraine', '#Russia’s', '#Ukraine.', '#Russian', '#UAarmy', '#Russia’s', '#Ukraine.', '#Russian', '#Ukraine.', '#Russia’s', '#Ukrainian', '#Mariupol', '#Olenivka', '#Russian', '#StopPutin', '#NuclearTerrorism', '#RussiaIsATerroristState', '#StandWithUkraine', '#Russia’s', '#Ukraine.', '#Russian', '#Ukrainians', '#RussiaIsATerroristState', '#visaban', '#BanRussianTourists', '#StandWithUkraine', '#Russia’s', '#Ukraine.', '#Russian', '#Russia', '#Russians', '#RussiaIsATerroristState', '#StopRussiaNOW', '#ArmUkraine', '#Kherson', '#Russia)', '#Russia.', '#Ukraine.', '#BanRussiaNow', '#StandWithUkraine️', '#BanRussiaNow', '#Russia', '#NuclearTerrorism', '#gasembargo', '#Russia,', '#BanRussiaNow', '#Russia', '#Crimea.', '#StandWithUkraine️', '#UkraineWillWin', '#Ukraine', '#Kherson', '#RussianUkrainianWar', '#UkraineWillWin', '#Russia’s', '#Ukraine.', '#Russian', '#FreedomIsOurReligion', '#UkraineWillWin', '#Russia.', '#Russia’s', '#Ukraine.', '#Russian', '#Russianwar', '#Ukraine,', '#StandWithUkraine️', '#ArmedForcesofUkraine', '#Ukraine.', '#UkrainianFaces', '#UkraineWillWin', '#Russia', '#Ukraine,', '#RussiaUkraineWar', '#Russia', '#Ukraine,', '#RussiaUkraineWar', '#stories', '#UkraineWorldTestimony', '#Russia’s', '#Ukraine.', '#Russian', '#russiaisaterroriststate', '#Russia’s', '#Ukraine.', '#Russian', '#Ukrainian', '#Ukraine!”', '#StandWithUkraine️', '#Ukrainian', '#Ukraine.', '#Ukrainian', '#StandWithUkraine️', '#Ukraine4FoodSecurity', '#Russia’s', '#Ukraine.', '#Russian', '#StandWithUkraine', '#Ukraine', '#Russia', '#StandWithUkraine️', '#StopRussianWar', '#Russian', '#Zaporizhzhia', '#Russia', '#StandWithUkraine️', '#Ukraine', '#Russia', '#Kherson', '#Kherson', '#Crimea', '#Russia', '#Russia', '#Crimea', '#Russia', '#Russia', '#Ukraine’s', '#RussiaHungerGames', '#HungerMadeinRussia', '#UAarmy.', '#Russia’s', '#Ukraine.', '#Russian', '#NATO', '#russiaisaterroriststate', '#StandWithUkraine', '#Russia’s', '#Ukraine.', '#Russian', '#StandWithUkraine', '#russiaisaterroriststate', '#Mariupol', '#StandWithUkraine', '#UkraineWillWin', '#RussiaIsATerroristState', '#RussianWarCrimesInUkraine', '#RussiaUkraineWar', '#StandWithUkraine', '#StandWithUkraine', '#StopRussia', '#Kharkiv', '#UkraineWillWin', '#Russia’s', '#Ukraine.', '#Russian', '#RussiaIsATerroristState', '#StopRussiaNOW', '#RussianWarCrimes', '#StandWithUkraine', '#russiaisaterrorisstate', '#Russian', '#Ukraine', '#Ukrainian', '#Russia,', '#Russian', '#Russian', '#Ukraine.', '#RussiaIsATerroristState', '#RussiaHungerGames', '#RussiaUkraineWar', '#StopRussiaNOW', '#RussiaIsATerroristState', '#StopRussiaNOW', '#Russia', '#StandWithUkraine', '#Russian', '#UkraineWillWin', '#Ukraine', '#RussiaIsATerroristState', '#RussianWarCrimes', '#Russian', '#Olenivka,', '#OlenivkaMassacre', '#Russian', '#Olenivka,', '#OlenivkaMassacre', '#RussiaUkraineWar', '#MetaStopBlockUkraine!', '#RussianUkrainewar', '#StopRussia', '#Olenivka,', '#OlenivkaMassacre', '#RussiaIsATerroristState', '#UAarmy.', '#UAarmy', '#StopRussiaNOW', '#UkraineWillWin', '#russiaisaterroriststate', '#StopRussiaNOW', '#UkraineWorldAnalysis', '#SupportUkraine', '#RussiaInvadedUkraine', '#StandWithUkraine', '#RussiaUkraineWar', '#StopRussianAggression', '#Kherson', '#UkraineWillWin', '#Russia’s', '#Ukraine.', '#Russian', '#Ukraine4FoodSecurity', '#Ukrainian', '#Odesa', '#Russian', '#Ukraine', '#RussianHungerGames.', '#BREAKING', '#stoprussianlies', '#Ukraine,', '#HIMARS', '#HIMARS', '#Ukraine', '#Ukrainian', '#Russia', '#Ukraine4FoodSecurity', '#RussiaHungerGames', '#Russia’s', '#Ukraine.', '#Russian', '#Russia', '#Ukraine', '#RussianWarCrimes', '#FightLikeUkrainians', '#FreedomIsOurReligion', '#stoprussia', '#Russia’s', '#Ukraine', '#Ukrainian', '#Banksy', '#Russia’s', '#Ukraine.', '#Russian', '#Ukraine', '#RussianWarCrimes', '#stopRussia', '#MovingForwardTogether', '#Mykolaiv', '#Russia', '#Russian', '#Russia', '#Ukraine.', '#RussianWarCrimes', '#Ukrainian', '#Mykolaiv.', '#Russian', '#Kherson', '#Olenivka', '#Russia’s', '#Ukraine.', '#Russian', '#Mariupol', '#Ukrainian', '#Ukraine!', '#StandWithUkraine️', '#LifeWillPrevail', '#StandWithUkraine', '#FightLikeUkrainians', '#Russia', '#StandWithUkraine️', '#ArmUkraineNow', '#StandWithUkraine', '#IStandWithUkraine', '#UkraineWillResist', '#UkraineWillWin', '#Russia’s', '#Ukraine.', '#Russian', '#Ukraine', '#Russia.', '#Ukrainian', '#WhatWeAreFightingFor', '#StandWithUkraine', '#StopRussia', '#BREAKING', '#UkraineWorldAnalysis🧵', '#UkraineWorldAnalysis', '#Vogue', '#UkraineWillWin', '#StopRussia', '#Russia’s', '#Ukraine.', '#Russian', '#StopRussia', '#StandWithUkraine', '#StopRussianAggression', '#StandWithUkraine', '#RussiaUkraineWar', '#UAarmy', '#stoprussia', '#Ukraine', '#UAParliamentSpeaks', '#RussiaUkraineWar', '#Russia’s', '#Ukraine.', '#Russian', '#Odesa', '#UkraineWillWin', '#StopRussia', '#RussiaInvadedUkraine', '#RussiaUkraineWar', '#StopRussianAggression', '#UAarmy', '#UAarmy', '#StandWithUkraine', '#UAParliamentspeaks', '#StandWithUkraine', '#RussianWarCrimes', '#Bucha', '#BREAKING:', '#StandWithUkraine', '#Russia’s', '#Ukraine.', '#Russian', '#UAarmy.', '#Russia’s', '#Russian', '#ArmUkraineNow', '#Russia’s', '#Ukraine.', '#Russian', '#Russia', '#Ukraine', '#Russia', '#UkraineWorldAnalysis', '#Russia’s', '#Ukraine.', '#Russian', '#Ukrainian', '#StandWithUkraine', '#Russia’s', '#Ukraine,', '#NATO', '#BREAKING', '#UkraineWorldAnalysis', '#Ukrainian', '#StandWithUkraine', '#AgainstRussianLies', '#Russia', '#Russia’s', '#Ukraine.', '#Russian', '#StopRussia', '#StandWithUkraine', '#FAC:', '#Ukraine', '#RussiaUkraineWar.', '#StandWithUkraine', '#StopRussiaNOW', '#StandWithUkraine', '#Ukraine.', '#Russia.”', '#UkraineRussiaWar', '#RussianUkrainianWar', '#RussiaIsATerroristState', '#Russia’s', '#Ukraine.', '#Russian', '#StopRussianAggression', '#Mariupol', '#UkraineWorldAnalysis', '#Kharkiv', '#StopRussianAggression', '#ArmUkraineNow', '#StopRussiaNOW', '#SupportUkraine', '#StopRussianAggression', '#SanctionRussia', '#Russia’s', '#Ukrainian', '#Ramstein', '#Russia', '#StandWithUkraine', '#StopRussianWar', '#StandWithUkraine', '#Russia’s', '#Ukraine.', '#Russian', '#StandWithUkraine️', '#StopRussiaNOW', '#RussiaUkraineWar', '#StopRussiaNOW', '#RussiaIsATerroristState', '#StandWithUkraine', '#Ukraine,', '#stoprussia', '#FAC:', '#StandWithUkraine', '#StandWithUkraine', '#StandWithUkraine️', '#Russia’s', '#Ukraine.', '#RussianWarCrimes', '#ArmUkraineNow', '#StandWithUkraine️', '#UkraineWorldAnalysis', '#Ukraine.', '#Kherson', '#Ukraine.', '#NATO', '#Russia’s', '#Ukraine.', '#Russian', '#RussiaIsATerroristState', '#FAC:', '#Russian', '#Ukraine', '#Russia', '#Ukraine', '#NATO', '#Russia', '#Ukraine.', '#SaveMariupol', '#MariupolGenocide', '#MariupolMassacre', '#Russia’s', '#Ukraine.', '#Russian', '#StopRussianAggression', '#StandWithUkraine', '#StandWithUkraine', '#Ukraine.', '#Russia’s', '#StandWithUkraine️', '#RussianWarCrimes', '#Ukraine', '#Vinnytsia', '#Ukrainian', '#StandWithUkraine️', '#StopRussianWar', '#M777', '#Russia’s', '#Ukraine.', '#Russian', '#stoprussia', '#Russia’s', '#Ukraine', '#Russian', '#Ukrainian', '#Russia.', '#UkraineWorldTestimony', '#Russia’s', '#Ukraine.', '#Russian', '#Russia', '#StopRussiaNOW', '#RussianWarCrimes', '#StopRussia', '#Mariupol', '#TopGun', '#USA', '#ArmUkraineNow', '#F15', '#F16', '#RussiaInvadedUkraine', '#Mykolaiv', '#Russian', '#Ukrainians,', '#Russia.', '#StopRussianWar', '#NATOSummit', '#NATOreview', '#Russia’s', '#Ukraine.', '#Russian', '#StandWithUkraine', '#RussianWarCrimes', '#Russia', '#AccountabilityForUkraine', '#StopRussianAggression', '#RussianWarCrimes', '#UAarmy', '#Russia', '#terrorist', '#Ukrainian', '#Ukraine', '#Russia', '#TheHague', '#StopRussiaNOW', '#StandWithUkraine', '#GreyZone', '#AgainstRussianLies', '#StopRussia', '#Vinnytsia', '#stoprussia', '#ArmUkraineNow', '#Russia’s', '#Kyiv', '#RussianWarCrimes.', '#StandWithUkraine', '#StopRussianAggression', '#Ukraine’s', '#Russia', '#Russia’s', '#Ukraine.', '#Russian', '#BREAKING', '#Ukraine', '#Russia.”', '#NATO.', '#Russia’s', '#Ukraine.', '#Russian', '#StopRussianAggression', '#CancelRussia', \"#Russians'\", '#Russia', '#StopRussianWar', '#ArmUkraineNow', '#StandWithUkraine️', '#StopRussia', '#StandWithUkraine', '#StandWithUkraine️', '#StopRussia', '#StandWithUkraine', '#StandWithUkraine', '#Russia’s', '#Ukraine.', '#Russian', '#Russia', '#food', '#Ukrainian', '#Russian', '#UAarmy.', '#UAarmy', '#UAarmy', '#Ukraine', '#SupportUkraine', '#RussianWarCrimes', '#SrebrenicaGenocide', '#Russia’s', '#Ukraine.', '#Russian', '#StandWithUkraine', '#Russia’s', '#Ukraine.', '#Russian', '#BREAKING', '#Ukrainian', '#Russians', '#RussiaHungerGames', '#StandWithUkraine️', '#Ukraine4FoodSecurity', '#Russia’s', '#Ukraine', '#Russians', '#Ukrainian', '#RussiaHungerGames', '#Ukraine4FoodSecurity', '#Russia’s', '#Ukraine.', '#Russian', '#EidAlAdha', '#UAarmy;', '#Ukraine', '#Ukrainian', '#Russia,', '#Russia’s', '#Ukraine', '#Ukrainian', '#G20FMM:', '#Ukraine', '#NATO', '#NATOreview', '#Russia’s', '#Ukraine.', '#Russian', '#Ukrainian', '#Ukrainian', '#Russian', '#Ukrainian', '#Ukraine', '#Russia', '#Ukrainian', '#GreyZone', '#AgainstRussianLies', '#StandWithUkraine', '#Ukraine', '#Ukrainian', '#StandWithUkraine️', '#Russia’s', '#Ukraine.', '#Russian', '#UkraineWorldAnalysis', '#StopRussia', '#TopGun', '#Russia’s', '#Ukraine.', '#Russian', '#StandWithUkraine', '#StopRussia', '#StandWithUkraine', '#UkraineWillWin', '#StopRussia', '#StandWithUkraine', '#StopRussia', '#Russia’s', '#Ukraine.', '#Russian', '#Ukraine.', '#Lugano', '#Zmiinyi', '#Lugano,', '#Ukrainian', '#Ukraine’s', '#SlavaUkraini', '#GloryToUkraine', '#StandWithUkraine️', '#Russia.', '#StopRussia', '#RussiaUkraineWar', '#Kyiv', '#Ukrainian', '#Russia', '#Ukraine', '#RussiaHungerGames.', '#SnakeIsland,', '#UkraineWillWin', '#StandWithUkraine', '#UkraineWillWin', '#StopRussia', '#Russia’s', '#Ukraine.', '#Russian', '#StandWithUkraine', '#AgainstRussianLies', '#StandWithUkraine', '#BREAKING', '#UkrainianNavyDay', '#Russia’s', '#Ukraine.', '#Russian', '#StandWithUkraine', '#StandWithUkraine', '#StandWithUkraine', '#Ukrainian', '#Russia’s', '#Ukraine.', '#Russian', '#Russia', '#Ukraine', '#Ukraine', '#Russia.', '#StandWithUkraine', '#StandWithUkraine', '#StandWithUkraine', '#Russia', '#RussiaTerroristState', '#UkraineUnderAttack', '#Russia’s', '#Ukraine.', '#Russian', '#Kharkiv,', '#RussiaUkraineWar', '#Russia', '#Ukrainian', '#Russia', '#Odesa', '#Kremenchuk', '#RussiaIsATerroristState', '#Russia', '#StopRussianWar', '#ArmUkraineNow', '#RussianAggression', '#Russia', '#Zmeiny', '#RussiaUkraineWar', '#Odesa', '#Kremenchuk.', '#Russia', '#RussianWarCrimes', '#RussiaIsATerroristState', '#Russia', '#Ukraine.', '#ArmUkraineNow', '#StandWithUkraine️', '#RussianWarCrimes', '#StopRussia', '#RussianWarCrimes', '#StopRussia', '#StandWithUkraine️', '#Russia’s', '#Ukraine.', '#Russian', '#Mariupol', '#Russia', '#Russian', '#Ukraine.', '#RussianWarCrimes.', '#RussiaHungerGames', '#Ukraine4FoodSecurity', '#StandWithUkraine️', '#FightLikeUkrainian', '#NATO', '#RussiaIsATerroristState', '#UkraineUnderAttaсk', '#Ukrainian', '#ArmUkraineNow', '#F15', '#F16', '#TopGun', '#BREAKING', '#StopRussia', '#StandWithUkraine️', '#Russian', '#Russian', '#Russia’s', '#Ukraine.', '#Russian', '#Ochakiv,', '#Kremenchuk', '#RussianUkrainianWar.', '#RussiaIsATerroristState', '#StopRussia', '#RussiaIsATerroristState', '#Russia', '#G7', '#NATO', '#UkraineWorldAnalysis', '#Ukraine', '#Ukrainian', '#Russian', '#StandWithUkraine️', '#StandUpForUkraine', '#Russia', '#Russian', '#Ukrainian', '#constitution', '#BREAKING', '#Russia’s', '#Ukraine.', '#Russian', '#Kremenchuk,', '#Russian', '#Ukrainian', '#RussiaHungerGames', '#Ukraine4FoodSecurity', '#Russia’s', '#Ukraine.', '#Russian', '#G7', '#Ukraine️.', '#Russian', '#Ukrainian', '#ArmUkraineNow', '#StopRussianWar', '#UAarmy', '#G7', '#Russia’s', '#Ukraine.', '#Russian', '#ArmUkraineNow', '#G7,', '#Kyiv.', '#G7', '#CAESAR', '#RussianWarCrimes', '#Russia’s', '#Ukraine.', '#Russian', '#UAarmy.', '#StandWithUkraine', '#UkraineWorldTestimony', '#UkraineUnderAttaсk', '#StopRussia', '#StopRussia', '#TopGun', '#ArmUkraineNow', '#ProtectUAsky', '#Donbas', '#Lysychansk', '#Russian', '#RussianWarCrimes', '#Severodonetsk.', '#RussiaUkraineWar', \"#Russia's\", '#RussiaUkraineWar', '#RussiaWarCrimes', '#StopRussia', '#WomenInDiplomacy', '#Ukrainian', '#Ukraine!', '#War', '#Ukraine', '#SupportUkraine', '#StandWithUkraine️', '#EU.', '#Russia’s', '#Ukraine.', '#Russian', '#UAarmy', '#ArmUkraineNow', '#StandWithUkraine', '#EmbraceUkraine', '#UkraineisEU', '#Ukraine', '#Europe!', '#welcomEUkraine', '#Kharkiv', '#Ukraine', '#Ukrainian', '#Eurovision', '#Ukraine', '#Mariupol.', '#Russian', '#Ukrainian', '#Russia’s', '#Ukraine.', '#Russian', '#StopRussia', '#StandWithUkraine', '#UkraineWorldTestimony', '#Ukrainian.', '#Bucha.', '#Russia.', '#RussiaWarCrimes', '#Russian', '#Russian', '#Russia', '#RussiaHungerGames', '#Ukraine4FoodSecurity', '#Russia’s', '#Ukraine.', '#Russian', '#UkrainianDialogue', '#Ukrainian', '#Ukraine,', '#StandWithUkraine️', '#StopRussianWar', '#Ukraine,', '#Russian', '#StandWithUkraine', '#StopRussianWar', '#ArmUkraineNow', '#Russians', '#Ukrainian', '#StandWithUkraine️', '#StopRussianWar', '#ArmUkraineNow', '#BREAKING:', \"#Ukraine's\", \"#Ukraine's\", '#ArmUkraineNow', '#RussiaUkraineWar', '#Russia’s', '#Ukraine.', '#Russian', '#RussianWarCrimes', '#StopRussia', '#UkraineWorldTestimony', '#Danieli', '#BoycottRussia', '#Russia’s', '#Ukraine.', '#Russian', '#Russia', '#Ukraine.', '#Russian', '#Ukrainian', '#StandWithUkraine️', '#StopRussianWar', '#UAarmy', '#Ukrainian', '#Russia,', '#Russia’s', '#Ukraine.', '#Russian', '#StandWithUkraine', '#StandWithUkraine', '#Russian', '#RussiaHungerGames', '#Ukraine4FoodSecurity', '#StandWithUkraine', '#Kyiv', '#Ukrainian', '#Ukraine', '#Russians.', '#Ukraine’s', '#Russia,', '#Russia’s', '#Ukraine.', '#Russian', '#StandWithUkraine', '#UAarmy,', '#Russians', '#Russia’s', '#Ukraine’s', '#RussiaHungerGames', '#Ukraine4FoodSecurity', '#Russia;', '#Ukraine', '#StandWithUkraine', '#Russia’s', '#Ukraine.', '#Russian', '#StandWithUkraine', '#WielkiMecz,', '#Russian', '#Ukraine️.', '#Ukrainian', '#StopRussianWar', '#RussianWarCrimes', '#ArmUkraineNow', '#StandWithUkraine', '#StandWithUkraine', '#Kherson', '#FreeKherson', '#StopRussianAggression', '#StandWithUkraine', '#BREAKING:', '#Ukrainian', '#CEDAW', '#HumanRights', '#StandWithUkraine', '#UkrainewithCEDAW', '#Ukrainian', '#Ukraine', '#ArmUkraineNow', '#Russia’s', '#Ukraine', '#Mariupol', '#RussianWarCrimes', '#Kyiv', '#Russia’s', '#Ukraine.', '#Russian', '#Kyiv', '#StandWithUkraine', '#StopRussiaNOW', '#Russian', '#Ukraine.', '#StandWithUkraine️', \"#Russia's\", '#Ukrainian', '#Ukrainian', '#Russia.', '#Azvostal', '#Russia.', '#Azovstal', '#Azov', '#SaveAzovstalDefenders', '#ECFR,', '#Russia', '#WarInUkraine.', '#WarInUkraine,', '#Russia', '#RussianUkrainianWar', '#Ukraine.', '#Heroes', '#UkraineFaces', '#Ukraine', '#Russia.', '#NATO', '#Ukrainians', '#StandWithUkraine', '#Russia’s', '#Ukraine.', '#Russian', '#StandWithUkraine', '#BoycottRussia', '#refugees', '#Ukraine,', '#Ukrainian', '#StandWithUkraine', '#RussiaUkraineWar...', '#Ukrainian', '#StopRussiaNow', '#UkraineUnderAttaсk', '#Mariupol,', '#Russia', '#Donetsk', '#ArmUkraineNow', '#StopRussianWar', '#Ukrainian', '#Russia’s', '#Ukraine', '#StandWithUkraine', '#RussianWarCrimes', '#tribunalforputin', '#Russia’s', '#Ukraine.', '#Russian', '#StandWithUkraine', '#UAarmy,', '#Russia’s', '#Ukraine', '#Ukraine4FoodSecurity', '#Russia’s', '#Ukraine.', '#Russian', '#RussianWarCrimes', '#Mariupol,', '#Ukraine️.', '#Russian', '#Ukrainian', '#ArmUkraineNow', '#StopRussianWar', '#RussianWarCrimes.', '#UAarmy', '#tribunalforputin', '#RussiaWarCrimes', '#Russia’s', '#Ukraine.', '#Russian', '#Russia’s', '#Ukrainian', '#RussiaHungerGames', '#Ukraine4FoodSecurity', '#RussiaWarCrimes', '#tribunalforputin', '#Ukrainian', '#ArmUkraineNow', '#RussiaWarCrimes', '#tribunalforputin', '#Mariupol', '#StopRussianAggression', '#UAarmy.', '#SupportUkraine', '#StopRussia', '#Ukraine.', '#Ukraine,', '#StandWithUkraine', '#Deadrussiangenerals', '#StopRussia', '#Ukrainian', '#Ukraine,', '#StandWithUkraine️', '#StopRussianWar', '#LifeWillPrevail', '#StandWithUkraine', '#StandWithUkraine', '#Russia’s', '#Ukraine.', '#Russian', '#UkraineWorldAnalysis', '#Lysychansk', '#Donbas,', '#UkraineUnderAttack', '#ArmUkraineNow', '#StopPutinNOW', '#Russian', '#Ukraine.', '#StopRussianWar', '#ArmUkraineNow', '#Russia’s', '#Ukraine.', '#Russian', '#HIMARS', '#StandWithUkraine', '#StandWithUkraine️', '#StopRussia', '#StandWithUkraine', '#StopRussianAggression', '#StopRussia', '#StandWithUkraine', '#Ukrainian', '#StandWithUkraine️', '#StopRussianWar', '#Kyiv', '#Ukraine', '#Ukrainian', '#ArmUkraineNow', '#StopRussianWar', '#LifeWillPrevail', \"#Russia's\", '#Ukraine.', '#StandWithUkraine️', '#IStandWithUkraine', '#Kyiv.', '#Russian', '#StandWithUkraine️', '#StandUpForUkraine', '#Russia', '#StandWithUkraine️', '#ArmUkraineNow', '#StopRussianWar', \"#Russia's\", '#Ukraine.', '#Russian', '#Ukraine', '#Ukrainian', '#Berdyansk,', '#StandWithUkraine', '#StandWithUkraine', '#Russia', '#Ukraine', '#StopRussia', '#StopRussia', '#StopRussianAggression', '#StandWithUkraine', \"#Russia's\", '#Ukraine.', '#Russian', '#Mariupol.', '#SaveMariupol', '#MariupolMassacre', '#MariupolGenocide', '#StandWithUkraine', '#Azovstal', '#Mariupol)', '#SaveAzovstalDefenders', '#Russia', '#RussianWarCrimes', '#StandWithUkraine', '#StandWithUkraine', '#ChildrenPaintWar', '#ArtiFake', '#AgainstRussianLies', '#UkraineWorldTestimony', '#134,', '#Russia’s', '#Russian', '#StandWithUkraine', '#ChildrenPaintWar', '#ArtiFake', '#StopRussia', '#Russian', '#Russian', '#Africa', '#Ukraine', '#Turkey,', '#Egypt', '#Africa,', '#Arab', '#UkraineWorldAnalysis', '#ArmUkraineNow', '#SupportUkraine', \"#Russia's\", '#Ukraine.', '#Russian', '#StopRussianWar', '#ArmUkraineNow', '#StandWithUkraine️', '#Ukrainians', '#LifeWillPrevail', '#StandWithUkraine️', '#StandUpForUkraine', '#UkraineWorldAnalysis', '#Russia’s', '#Kyiv,', '#ArmUkraineNow', '#StopRussianWar', '#WorldEnvironmentDay,', '#StopRussianAggression.', '#Russia', '#environmental', '#StandWithUkraine', '#Ukraine', '#Russia', \"#Russia's\", '#Ukraine.', '#Russian', '#StandWithUkraine', '#StopRussianAggression', \"#Russia's\", \"#Russia's\", '#Ukraine', '#StandWithUkraine️', '#StandWithUkraine️', '#StopRussia', '#StandWithUkraine', '#UkraineWillWin', '#Russia', '#Ukraine', '#Russia', '#Ukraine.', '#Rusian', '#LifeWillPrevail', '#StandWithUkraine', '#StopRussianWar', '#ArmUkraineNow', '#UkraineWillWin', '#StopRussia', '#StandWithUkraine', '#Russia', '#Ukraine.', '#LifeWillPrevail', '#Russia', '#Ukraine.', '#LifeWillPrevail', '#StandWithUkraine', '#StopRussianWar', '#ArmUkraineNow', \"#Ukraine's\", '#Russia', '#Ukraine.', '#StopRussianWar', '#ArmUkraineNow', '#LifeWillPrevail', '#Russian', '#Ukraine,', '#StandWithUkraine', '#StopRussia', '#Ukraine,', '#NATO’s', '#NATOSummit', '#StandWithUkraine', '#StandWithUkraine', '#ChildrenPaintWar', '#ArtiFake', '#StandWithUkraine', '#StopRussia', '#StandWithUkraine', '#Russia', '#Ukraine', '#ChildrenPaintWar', '#ArtiFake', '#UkrainianDialogue', '#Ukrainian', '#StandWithUkraine️', '#StopRussianWar', '#StandUpForUkraine', '#BREAKING:', '#StandWithUkraine', '#Russian', '#Ukraine', '#ChildrenPaintWar', '#ArtiFake', '#StopRussia', '#StopRussia', '#StandWithUkraine️', '#Mariupol,', \"#Russia's\", '#Ukraine.', '#RussianWarCrimes', '#StopRussianWar', '#ArmUkraineNow', '#StandWithUkraine', '#StandWithUkraine', '#ukrainian', '#StopRussianWar', '#ArmUkraineNow', '#ChildrenPaintWar,', '#ArtiFake', '#Ukraine.', '#Russian', '#StopRussianWar', '#ArmUkraineNow', '#StandWithUkraine️', '#UkraineWorldTestimony', '#Russia’s', '#Ukraine', '#StopRussianWar', '#ArmUkraineNow', '#GreyZone,', '#AgainstRussianLies,', '#UkraineWorldAnalysis.', '#UkraineWorldTestimony', '#UkraineWorldAnalysis', '#StopRussiaNOW', '#Ukrainian', '#StandWithUkraine️', '#StandUpForUkraine', '#StopRussianWar', '#StandWithUkraine', '#IStandWithUkraine', '#BREAKING', '#Kherson', '#StopRussia', '#Luhansk', '#RussianWarCrimes', '#StandWithUkraine', '#UAParliamentSpeaks', '#NATOPAVilnius', '#StandWithUkraine', '#Demilitarization', '#Denazification', '#StopRussia', '#RussianWarCrimes', '#Ukraine', '#Kyiv.', '#StandWithUkraine️', '#StopRussianWar', '#Ukraine', '#Kyiv.', '#StopRussianWar', '#ArmUkraineNow', '#Donbas', '#Kherson', '#Russian', '#Ukraine', '#ArmUkraineNow', '#StandWithUkraine', '#Ukrainian', '#StandUpForUkraine', '#StandWithUkraine️', '#Ukrainian', '#StandWithUkraine️', '#StopRussianWar', '#ArmUkraineNow', '#SlavaUkraine', '#StandWithUkraine', '#Russian', '#Kherson', '#Ukrainian', '#ArmUkraineNow', '#StopRussia', '#UkraineAnalysis.', '#Ukrainian', '#Ukraine', '#StandWithUkraine️', '#ArmUkraineNow', '#LifeWillPrevail', '#Russian', '#Ukrainian', '#Izium,', '#Kharkiv', '#StopRussianWar', '#ArmUkraineNow', '#Culturno', '#UAarmy', '#ArmUkraineNow', '#GreyZone', '#AgainstRussianLies', '#StandWithUkraine', '#Ukrainian', '#LifeWillPrevail', '#RussiaUkraineWar,', '#Ukrainian', '#StandWithUkraine️', '#StandUpForUkraine', '#LifeWillPrevail', '#Ukraine', '#Russia.', '#RussiaUkraineWar', '#Mariupol', '#StandWithUkraine', '#RussiaUkraineWar', '#Kyiv.', '#Kherson', '#Zaporizhia', '#IStandWithUkraine', '#Ukrainian', '#StandWithUkraine', '#WEF22', '#GreyZone', '#AgainstRussianLies', '#GreyZone', '#AgainstRussianLies', '#GreyZone', '#AgainstRussianLies', '#Zaporizhia', '#Kherson', '#StopRussia', '#StopRussianAggression', '#Mariupol', '#Azovstal.', '#Ukrainian', '#SaveMariupol', '#RussianWarCrimes', '#StandWithUkraine', '#StopRussia', '#StandWithUkraine', '#SaveMariupolDefenders', '#Ukraine', '#Russia', '#StandWithUkraine️', '#StandWithUkraine', '#UkraineWillWin', '#StandWithUkraine', '#UkraineWorldTestimony', '#Ukrainian', '#Ukraine', '#StandWithUkraine️', '#StandUpForUkraine', '#ArmUkraineNow', '#Russian', '#Ukraine’s', '#RussianWarCrimes.', '#StopRussianWar', '#Taira', '#Mariupol.', '#Russians', '#SaveTaira', '#StandWithUkraine️', '#StandWithUkraine', '#StandWithUkraine', '#StandWithUkraine', '#StopRussia', '#StandWithUkraine', '#BREAKING', '#Mariupol', '#Russia’s', '#StandWithUkraine️', '#StopRussianWar', '#SaveMariupolDefenders', '#StandWithUkraine', '#Ukrainian', '#Ukraine️', '#Ukrainian', '#StandWithUkraine️', '#StopRussianWar', '#Polish', '#Kherson,', '#Ukraine.', '#StandWithUkraine️', '#ArmUkraineNow', '#Russia', '#Ukrainian', '#StopRussianWar', '#ArmUkraineNow', '#Luhansk', '#Ukrainian', '#Sievierodonetsk,', '#Lysychansk', '#Bilohorivka.', '#StandWithUkraine️', '#ArmUkraineNow', '#Mariupol.', '#MariupolGenocide', '#BREAKING:', '#ProtectUAsky', '#ArmUkraineNow', '#UkraineWorldAnalysis', '#Russian', '#Ukrainians', '#Kherson', '#StopRussia', '#UkraineUnderAttack', '#StopRussia', '#Bucha:', '#StopRussia', '#StandWithUkraine', '#China', '#China.', '#UkraineWar,', '#UkraineWorldAnalysis', '#VyshyvankaDay', '#BREAKING:', '#StopRussia', '#StopRussianAggression', '#StandWithUkraine️', '#BREAKING:', '#StandWithUkraine', '#StandWithUkraine️', '#StandUpForUkraine', '#StandWithUkraine', '#StopRussia', '#StopRussia', '#StandWithUkraine', '#StopRussia', '#StandWithUkraine', '#BREAKING:', '#Russia', '#Ukraine', '#StopRussianAggression', '#StandWithUkraine', '#StopRussianAggression', '#StandWithUkraine', '#GreyZone', '#AgainstRussianLies', '#Kharkiv,', '#Russian', '#Ukrainian', '#Russians.', '#StopRussianWar', '#Ukraine', '#StandWithUkraine', '#Odesa', '#Ukraine', '#StandWithUkraine️', '#Taira,', '#Ukrainian', '#Mariupol.', '#SaveTaira', '#AgainstRussianLies', '#StopRussia', '#SaveMariupolDefenders', '#Russian', '#Ukrainian', '#StandWithUkraine️', '#StandWithUkraine', '#StandWithUkraine', '#BREAKING', '#StopRussia', '#AgainstRussianLies', '#StandWithUkraine', '#Ukraine', '#NATO', '#ForMin', '#StopRussia', '#UkraineWillWin', '#StopRussia', '#StandWithUkraine', '#StandWithUkraine', '#BREAKING:', '#Mariupol', '#Stephania', '#Azovstal', '#KalushOrchestra', '#StandWithUkraine️', '#ESC2022', '#SaveMariupol', '#SaveAzovstal', '#SaveMariupol', '#Ukrainian', '#Ukraine', '#WeAreUkraine', '#StandWithUkraine️', '#StandUpForUkraine', '#Mariupol,', '#Donetsk', '#Ukrainian', '#StandWithUkraine️', '#StandUpForUkraine', '#Azov.', '#Mariupol.', '#SaveMariupol', '#LifeWillPrevail', '#KalushOrchestra', '#Eurovision2022', '#KalushOrchestra', '#Eurovision.', '#Ukrainian', '#Azovstal', '#SaveMariupol', '#StandWithUkraine️', '#Ukraine', '#Ukrainian', '#RussianWarCrimes', '#Ukrainian', '#Russian', '#LifeWillPrevail', '#StandWithUkraine', '#RussianWarCrimes', '#IStandWithUkraine', '#ArmUkraineNow', '#BREAKING', '#Russia', '#Azovstal', '#Ukraine', '#SaveMariupol', '#UAParliamentSpeaks', '#StandWithUkraine', '#StopRussiaNow', '#Mariupol', '#SaveMariupol', '#StopRussia', '#RussiaUkraineWar.', '#UkraineWorldTestimony', '#Mariupol', '#Ukrainian', '#Azovstal', '#SaveMariupol', '#ArmUkraineNow', '#RussiaWarCrimes', '#Azovstal', '#Mariupol', '#Azovstal.', '#AzovstalExtraction', '#StopRussia', '#StandWithUkraine️', '#Ukraine', '#United24.', '#StandWithUkraine', '#StandWithUkraine', '#Ukrainian', '#LifeWillPrevail', '#StandWithUkraine️', '#StandUpForUkraine', '#StandWithUkraine', '#RussianWarCrimes', '#StopRussia', '#Azovstal', '#Mariupol', '#Ukrainians', '#SaveMariupol', '#ArmUkraineNow', '#Ukraine.', '#GreyZone', '#AgainstRussianLies', '#Eurovision', '#KalushOrchestra', '#6', '#Stefania', '#Eurovision2022', '#StopRussia', '#StopRussia', '#StandWithUkraine', '#StandWithUkraine', '#StopRussia', '#StandWithUkraine', '#StandWithUkraine', '#Ukraine,', '#NATO', '#BREAKING:', '#Ukrainian', '#StandWithUkraine️', '#StopRussianWar', '#StandUpForUkraine', '#RussianWarCrimes', '#RussiaWarCrimes', '#StopRussia', '#Azovstal', '#Mariupol.', '#SaveMariupol', '#StopRussiaNow', '#GreyZone,', '#AgainstRussianLies', '#Ukraine,', '#StandUpForUkraine', '#StandWithUkraine', '#StandUpForUkraine', '#StandWithUkraine', '#UAarmy', '#StandWithUkraine', '#StandWithUkraine', '#EU', '#Ukraine,', '#Azovstal', '#Mariupol', '#Russian', '#Kharkiv', '#StopRussianWar', '#ArmUkraineNow', '#ArmUkraineNow', '#WeRememberTheFact', '#BREAKING', '#MothersDay', '#Russian', '#Russia', '#StopRussianWar', '#ArmUkraineNow', '#Russia', '#ArmUkraineNow', '#StopRussianWar', '#StandWithUkraine', '#Kharkiv', '#UkraineUnderAttaсk', '#RussianWarCrimes', '#RussiaInvadedUkraine', '#StandWithUkraine️', '#Azov', '#SaveMariupolDonbasAndAzov', '#Kharkiv', '#RussiaUkraineWar,', '#RussianShameDay', '#UkraineUnderAttaсk', '#SlavaUkraine', '#StandWithUkraine️', '#RussianWarCrimesInUkraine', '#StopPutinNOW', '#UkraineFaces.', '#StandWithUkraine', '#StopWarInUkraine', '#StandWithUkraine️', '#StopRussia', '#Ukrainian', '#Ukrainian', '#Russia:', '#UkraineWorldAnalysis,', '#UkraineWorldAnalysis,', '#Popasna,', '#snakeisland.', '#SlavaUkraine', '#StandWithUkraine', '#StopRussia', '#StandWithUkraine', '#RussianWarCrimes', '#Ukrainian', '#StandWithUkraine️', '#ArmUkraineNow', '#ArmUkraineNow', '#ArmUkraineNow', '#StandWithUkraine', '#UkraineWillWin', '#StandWithUkraine', '#StopRussia', '#SaveMariupol', '#Kharkiv', '#Izium', '#BREAKING', '#Azovstal', '#Mariupol!', '#Donetsk', '#Luhansk,', '#StopRussia', '#Ukrainian', '#Ukrainian', '#Ukraine', '#Russian', '#StandWithUkraine️', '#StopRussianWar', '#StandUpForUkraine', '#ArmUkraineNow', '#Ukraine,', '#LifeWillPrevail', '#WeAreUkraine', '#StandWithUkraine️', '#SaveMariupol', '#MariupolGenocide', '#MariupolMassacre', '#StopRussianAggression', '#StandWithUkraine', '#StopRussia', '#StandWithUkraine️', '#StopRussiaNow', '#RussiaUkraineWar.', '#UkraineUnderAttack', '#ArmUkraineNow', '#RussianUkrainianWar', '#UAParliamentSpeaks', '#StandWithUkraine', '#StopRussia', '#UkraineWillResist', '#StandWithUkraine', '#GreyZone', '#AgainstRussianLies', '#GreyZone', '#AgainstRussianLies', '#GreyZone', '#AgainstRussianLies', '#RussianWarCrimesInUkraine.', '#StandWithUkraine', '#MariupolMassacre', '#MariupolGenocide', '#SaveMariupol', '#Petrykivka', '#Ukrainian', '#StandWithUkraine', '#StandUpForUkraine', '#StopRussianWar', '#StandWithUkraine', '#Berlin.', '#StandWithUkraine', '#StandWithUkraine', '#Ukrainian', '#StandWithUkraine', '#StopRussianWar', '#LifeWillPrevail', '#Ukrainian', '#Odesa.', '#UkraineUnderAttack', '#StandWithUkraine', '#SaveMariupol', '#MariupolGenocide', '#MariupolMassacre', '#Ukrainian', '#StandWithUkraine️', '#SaveMariupol', '#Ukraine', '#Azovstal', '#UaArmy', '#Ukrainian', '#Kyiv,', '#StandWithUkraine', '#ArmUkraineNow', '#Ukraine,', '#Azovstal', '#Mariupol', '#ArmUkraineNow', '#SaveMariupol', '#ArmUkraineNow', '#StandWithUkraine', '#ArmUkraineNow', '#Ukraine', '#Russia', '#GreyZone', '#AgainstRussianLies', '#StopRussia', '#SlavaUkraini', '#StopRussia', '#Mariupol', '#Azovstal,', '#StopRussia', '#BraveUkraine', '#SaveMariupol', '#Russian', '#Azovstal', '#Ukrainian', '#SaveMariupol', '#Ukraine', '#RussianWarCrimes', '#StandWithUkraine', '#MariupolMassacre', '#MariupolGenocide', '#StopRussia', '#StopRussiaNow', '#StopRussia', '#BuchaMassacre.', '#StopRussia', '#StopRussianAgression', '#StandWithUkraine', '#GreyZone', '#AgainstRussianLies', '#SlavaUkraini', '#StopRussia', '#Marioupol', '#Mariupol,', '#SaveMariupol', '#Culturno', '#SlavaUkraini', '#StandWithUkraine', '#IStandWithUkraine️', '#Mariupol', '#Mariupol', '#Russian-Ukrainian', '#Ukraine.', '#SaveMariupol', '#Russia’s', '#Mariupol', '#Ukraine.', '#Russian', '#Ukrainian', '#Azovstal', '#Mariupol’s', '#Russia’s', '#SaveMariupol', '#Russia', '#Mariupol.', '#SaveMariupol', '#StandWithUkraine', '#IStandWithUkraine', '#Taira,', '#Ukrainian', '#Mariupol.', '#SaveTaira', '#UkraineWillWin', '#UkraineWillResist', '#Ukraine’s', '#StopRussianWar', '#Kyiv,', '#UkraineUnderAttaсk', '#Irpin,', '#SlavaUkraini', '#StandWithUkraine', '#Russia', '#Russian', '#SaveMariupol', '#Russia', '#Russian', \"#Russia's\", '#Ukrainian', '#Mariupol.', '#Ukrainian', '#Azovstal', '#Mariupol.', '#SaveMariupol', '#Russia', '#Mariupol', '#Russia', '#Azovstal', '#Mariupol', '#Russia', '#Azovstal', '#RussianWarCrimesInUkraine', '#StandWithUkraine', '#UkraineWillWin', '#Ukrainian', '#Russia.', '#Russian', '#Odesa', '#RussianWarCrimes', '#ArmUkraineNow', '#Kharkiv,', '#StandWithUkraine', '#Ukrainian', '#StandWithUkraine️', '#StopRussianWar', '#StandWithUkraine', '#Chornobyl', \"#Russia's\", '#Ukraine', '#Chornobyl', '#ArmUkraineNow', '#Ukrainian', '#Ukraine’s', '#AgainstRussianLies,', '#GreyZone', '#Volnovakha.', '#StandWithUkraine', '#StandWithUkraine', '#EU', '#StandUpForUkraine', '#StandWithUkriane', '#StandUpForUkraine', '#BREAKING', '#UkraineWillWin', '#StopRussiaNow', '#StopRussianAggression', '#Chernihiv.', '#Ukraine', '#Russian', '#Ukrainian', '#Ukrainians', '#StandWithUkraine️', '#LifeWillPrevail', '#Mariupol', '#SaveMariupol', '#ArmUkraineNow.', '#Mariupol,', '#SaveMariupol.', '#Russia', '#Mariupol', '#Russia,', '#Mariupol.', '#Ukrainian', '#Azovstal', '#Russia', \"#russia's\", '#StopRussia', '#BuchaMassacre', '#stoprussia', '#ArmUkraineNow', '#InternationalBookDay,', '#Ukraine.', '#StandWIthUkraine', '#Russia’s', '#Ukrainian', '#WeAreUkraine', '#Analysis:', '#ArmUkraineNow', '#StopRussia', '#IStandWithUkraine', '#ArmUkraineNow', '#AgainstRussianLies', '#StopRussia', '#ArmUkraineNow', '#RussiaWarCrimes', '#BanRussianOil', '#Kharkiv,', '#RussianWarCrimes', '#ArmUkraineNow', '#Mariupol,', '#Azovstal,', '#SaveMariupol', '#IStandWithUkraine', '#NATO', '#Russian', '#Kyiv', '#WeAreUkraine', '#Ukraine', '#StandWithUkraine', '#WeAreUkraine', '#UAParliamentSpeaks', '#Culturno', '#UaArmy', '#Libya', '#Syria.', '#StopRussia', '#StopRussia', '#AgainstRussianLies', '#StopRussia', '#Russia', '#Mariupol.', '#Azovstal', '#Russia,', '#Mariupol,', '#ArmUkraineNow', '#Russia', '#CloseUAskyNOW', '#RussianWarCrimes', '#StopRussia', '#France:', '#PolandFirstToHelp', '#UkraineWorldTestimony', '#IStandWithUkraine', '#StandWithUkraine', '#UAParliamentSpeaks', '#Russia’s', '#Ukrainian', '#StopRussia', '#SaveUkraine', '#ArmUkraineNow', '#GrayZone', '#AgainstRussianLies', '#StandWithUkraine', '#Ukrainians', '#Russian', '#SupportTheBrave', '#Ukrainian', '#WeAreUkraine', '#UkraineWorldTestimony', '#Mariupol', \"#Russia's\", '#Ukraine.', '#SaveMariupol', '#StandWithUkraine️', '#UkraineRussiaWar', '#PolandFirstToHelp', '#StandWithUkraine️', '#Russia', '#Ukraine.', '#WeAreUkraine', '#SaveMariupol', '#ArmUkraineNow', '#Culturno', '#UkraineWillWin', '#Ukrainian', '#UkraineWillWin', '#ArmUkraineNow', '#BuchaMassacre,', '#RussiaWarCrimes', '#StandWithUkraine️', '#StopRussia', '#Lviv,', '#RussiaWarCrimes', '#UkraineWillWin', '#StandWithUkraine', '#StopRussianAggression', '#RussiaWarCrimes', '#GloryToUkraine', '#BackupUkraine,', '#Ukrainian', '#StopRussia', '#ProtectUAsky', '#Irpin,', '#Kyiv.', '#StandWithUkraine', '#StopRussianWar', '#StandUpForUkraine', '#StopRussia', '#RussiaWarCrimes', '#Kharkiv', '#Ukraine.', '#Ukrainian', '#Mariupol', '#Ukrainian', '#Mariupol', '#StandWithUkraine️', '#StandUpForUkraine', '#StopRussianWar', '#Ukrainian', '#StopRussianAggression', '#StopRussianWar', '#StandWithUkraine', '#RussianWarCrimes', '#RussiaWarCrimes', '#StandWithUkraine', '#UkraineWorldAnalysis', '#Mariupol', '#Shakhtar', '#RussiaWarCrimes', '#StopRussia', '#RussiaWarCrimes', '#RussiaWarCrimes', '#UAParliamentSpeaks', '#UAParliamentSpeaks', '#RussianWarCrimes', '#UAParliamentSpeaks', '#UkraineUnderAttack', '#StandWithUkraine', '#StandUpForUkraine', '#UkraineUnderAttack', '#StopRussia', '#UkraineUnderAttack', '#RussianUkrainianWar', '#Moskvacruiser.', '#Ukrainian', '#StandWithUkraine', '#StandUpForUkraine', '#Moskvacruiser:', '#StopRussia', '#UkraineUnderAttack', '#buymeafighterjet', '#Kyiv', '#Russian', '#UAParliamentSpeaks', '#StopRussia', '#WeAreUkraine', '#StandWithUkraine', '#BuyMeAfighterJet!', '#RussiaWarCrimes', '#StopPutinNOW', '#Mariupol.', '#MariupolMassacre', '#Mykhailivka', '#Donetsk', '#Ukrainian', '#StandWithUkraine️', '#StopRussianWar', '#StandWithUkraine', '#StandUpForUkraine', '#Ukraine.', '#WeAreUkraine', '#StopRussia', '#StandWithUkraine', '#StopRussia', '#StandWithUkraine', '#ArmUkraineNow', '#ArmUkraineNow', '#UAParliamentSpeaks', '#GreyZone', '#AgainstRussianLies', '#Russia', '#Ukrainian', '#Donbas,', '#GreyZone', '#AgainstRussianLies', '#GreyZone', '#AgainstRussianLies', '#RussiaWarCrimes', '#Russia', '#Bucha.', '#BuchaMassacre', '#RussianWarCriminals', '#UkraineWillResist', '#Mariupol', '#StandWithUkraine', '#SaveUkraine', '#SaveUkraine', '#SaveUkraine', '#StandWithUkraine', '#StopRussia', '#MariupolGenocide', '#GreyZone,', '#AgainstRussianLies', '#UkraineWorldTestimony:', '#Ukraine,', '#RussiaWarCrimes', '#StopRussiaNOW', '#UkraineWillResist', '#StopRussia', '#StandWithUkraine', '#RussiaUkraineWar', '#uaparliamentspeaks', '#SeedsForUkraine,', '#Bucha', '#BuchaMassacre', '#StopRussianAggression', '#StopRussia', '#RussianWarCrimes', '#RussiaWarCrimes', '#RussianUkraineWar', '#StopRussianAggression', '#StopRussianWar', '#UAParliamentSpeaks', '#IStandWithUkraine', '#StandUpForUkraine', '#StandWithUkriane', '#Irpin,', '#Bucha', '#Hostomel', '#StandUpForUkraine', '#Kramatorsk', '#RussianWarCrimes', '#StandUpForUkraine', '#StandWithUkraine', '#StandWithUkraine', '#Ukraine:', '#StopRussianAggression', '#Russian', '#IStandWithUkraine', '#Borodianka', '#Ukrainian', '#WeAreUkraine', '#StopRussianAggression', '#BuchaMasacre', '#UAParliamentSpeaks', '#BRAVEUKRAINE', '#UAParliamentSpeaks', '#SOF,', '#Kramatorsk:', '#russianwarcrimes', '#Kramatorsk', '#Russian', '#Ukrainian', '#Kyiv.', '#Gif', '#Kramatorsk', '#StopRussia', '#Irpin.', '#UAParliamentSpeaks', '#Donetsk', '#Russia’s', '#Kramatorsk', '#ProtectUASky', '#Ukrainian', '#UAParliamentSpeaks', '#Russia', '#Ukraine,', '#Russian', '#StopRussianAggression', '#StopRussia', '#StandWithUkraine', '#StandWithUkraine.', '#Ukraine', '#StopRussianAggression', '#StopRussianWar', '#BREAKING', '#Mariupol', '#Russian', '#Ukraine.', '#russiawarcrimes', '#BREAKING', '#Russia’s', '#UN', '#StopRussiaNOW', '#RussiaWarCrimes', '#StopRussia', '#BREAKING', '#UaArmy', '#UAParliamentSpeaks', '#UaArmy', '#UAParliamentSpeaks', '#EuropeanParliament,', '#StandWithUkraine', '#UkraineWillResist', '#StopRussia', '#UkraineWillResist', '#BuchaMassacre', '#NATO', '#ForMin', '#Ukraine', '#GreyZone', '#AgainstRussianLies', '#GreyZone', '#AgainstRussianLies', '#StopRussianAggression', '#Ukrainian', '#StopRussianAgression', '#StopRussianWar', '#UAParliamentSpeaks', \"#Russia's\", '#Ukraine,', '#StopPutinNOW', '#BuchaMassacre', '#BuchaGenocide', '#Bucha...', '#Irpin...', \"#Russia's\", '#Ukraine.', '#StopRussianWar', '#Bucha.', '#GreyZone', '#AgainstRussianLies', '#GreyZone', '#AgainstRussianLies', '#GreyZone', '#AgainstRussianLies', '#StandWithUkraine', '#Ukrainian', '#SlavaUkraini', '#Russia’s', '#Ukraine', '#BuchaMassacre', '#RussianWarCrimes', '#An225Mriya', '#StandWithUkraine', '#UAParliamentSpeaks', '#UAParliamentSpeaks', '#BuchaMasacre', '#UAParliamentSpeaks', '#IStandWithUkraine', '#Ukraine,', '#NATO', '#ForMin', '#IStandWithUkraine', '#StopRussia', '#Bucha,', '#ForMin', '#StopRussianLies', '#StandWithUkraine', '#StandWithUkraine', '#BuchaMasacre', '#Russian', '#RussianWarCrimesInUkraine', '#AngelaMerkel', \"#Ukraine's\", '#BuchaMassacre,', '#UAParliamentSpeaks', '#BuchaMassacre', '#StandWithUkraine', '#StopRussia', '#Bucha', '#BuchaMassacre', '#RussianWarCrimes', '#BuchaMassacre', '#Bucha', '#BuchaMassacre', '#RussianWarCrimes', '#BuchaMassacre', '#BuchaGenocide', '#BuchaMassacre', '#StandWithUkraine', '#BuchaMassacre', '#SanctionRussiaNow', '#BuchaMassacre', '#RussianWarCrimes', '#BuchaMassacre', '#BuchaMassacre', '#StandWithUkraine️', '#Bucha,', '#BuchaMassacre', '#UkraineUnderAttaсk', '#StopPutin', '#UAParliamentSpeaks', '#stoprussia', '#RussianWarCrimes', '#RussianWarCrimes', '#WarCrimes', '#StopRussia', '#StopRussianAggression', '#StopRussianAggression', '#StopRussia', '#StopRussianAggression', '#Ukrainian', '#Russian-occupied', '#WeAreUkraine', '#UAParliamentSpeaks', '#Culturno.', '#StandWithUkraine', '#UAParliamentSpeaks', '#UkraineWillWin', '#StopRussia', '#Ukraine.', '#NATO', '#Ukraine', '#BREAKING', '#StopRussia', '#UAparliamentspeaks', '#NATO', '#Ukrainian', '#Russian', '#Mykolaiv', '#Ukraine.', '#Ukrainian-born', '#Ukraine', '#ProtectUАSky', '#StopRussia', '#UkraineUnderAttaсk', '#MariupolGenocide', '#UAParliamentSpeaks', '#SupportUkraine', '#StandWithUkraine', '#StopRussia', '#StandWithUkraine', '#UAParliamentSpeaks', '#GreyZone', '#AgainstRussianLies', '#UAparliamentspeaks', '#GreyZone', '#AgainstRussianLies', '#StopPutinNOW', '#UAParliamentspeaks', '#stoprussia', '#GreyZone', '#AgainstRussianLies', '#GreyZone', '#AgainstRussianLies', '#MariupolGenocide', '#Irpin,', '#Ukraine', '#Russian', '#war', '#StandWithUkraine️', '#StopRussianAggression', '#StandUpForUkraine', '#UAParliamentSpeaks', '#Kyiv.', '#Ukrainian', '#StandWithUkraine', '#StandUpForUkraine', '#StopRussianAggression', '#IStandWithUkraine', '#UAparliamentspeaks', '#SanctionRussiaNow', '#UAParliamentSpeaks', '#Ukraine,', '#West,', '#Russia.', '#RussianWarCrimes', '#stoprussia', '#SanctionRussiaNow', '#StopPutinNOW', '#Ukrainian', '#StandWithUkraine️', '#Russia', '#Mykolaiv', '#closeUAskyNOW', '#StopRussianAgression', '#RussianWarCrimes', '#SupportUkraine', '#StopRussia', '#StopRussianAggression', '#StandingWithUkraine', '#StandingWithUkraine', '#UkraineWorldTestimony', '#StopRussianAggression', '#BREAKING:', '#Mariupol', '#StopWarInUkraine', '#sanctionrussia', '#Oscars2022', '#UAarmy', '#UkraineWillWin', '#RussianWarCrimes', '#UAParliamentSpeaks', '#UAParliamentspeaks', '#Ukraine:', '#Ukraine', '#Russian', '#Kharkiv', '#LifeImitatesArt', '#StopRussianAggression', '#UaArmy', '#UkraineWorldTestimony', '#UkraineWorldTestimony', '#RussianWarCrimesinUA', '#stoprussia', '#StopRussia', '#StandWithUkraine', '#StopRussia', '#StopRussianAggression', '#StopRussia', '#StopSponsoringTerrorism', '#StandWithUkraine', '#Russia', '#Ukraine.', '#StandWithUkraine️', '#StopRussianAggression', '#GreyZone,', '#AgainstRussianLies', '#DeadRussianGenerals', '#RussianAggression', \"#Russia's\", '#Donbas\"', '#Kyiv,', '#Kharkiv', '#Naples', \"#Russia's\", '#Belarus', '#Ukraine', '#Ukraine,', '#Putin', '#StopRussia', '#Ukraine', '#Russia', '#Crimea.', '#Mariupol', '#Russia', '#closeUAskyNOW', '#StopRussianAgression', '#StandWithUkraine️', '#Russians', '#StopRussia', '#ProtectUАSky', '#StandWithUkraine', '#GreyZone,', '#AgainstRussianLies', '#RussianWarCrimes', '#UAParliamentSpeaks', '#StopRussianAggression', '#StopRussia', '#UkraineWillWin', '#StopRussianAggression', '#Ukraine', \"#Russia's\", '#stoprussia', '#Ukraine', '#Russian', '#Sapphire', '#Russia', '#Ukrainian', '#US', '#Russia', '#Poland', '#EU', \"#Ukraine's\", '#StandWithUkraine', '#Ukraine', '#BREAKING', '#BREAKING', '#Ukraine', '#WeWillWin', '#Russia', '#МиСильні', '#StandWithUkraine', '#StandWithUkraine', '#SaveMariupol', '#Russia’s', '#Ukraine.', '#NATO', '#NATOSummit', '#Ukraine', '#Europe', '#UkraineRussiaWar', '#Russia', '#Ukraine.🇷🇺started', '#stoprussia', '#NATO', '#NATOSummit', '#UAParliamentSpeaks', '#BREAKING:', '#NATO', '#NATOSummit', '#Ukraine', '#Russia’s', '#Ukraine', '#Russia’s', '#Ukraine', '#StopRussianWarNow', '#UAParliamentSpeaks', '#Ukrainian', '#Kharkiv', '#StopRussia', '#StopRussianAgression', '#ProtectUАSky', '#CloseTheSky', '#ProtectUАSky', '#PlanesForUkraine', '#Kyiv.', '#Russia', '#Ukraine.', '#StopRussianAgression', '#StandWithUkraine', '#Kyiv.', '#StandWithUkraine', '#StopRussianAggression', '#closeUAskyNOW', '#StopRussia', '#StandWithUkraine', '#Russia,', '#StopRussia', '#USA', '#Ukraine️', '#Ukraine', '#Russian', '#Ukrainian', '#Ukrainian', '#UAarmy', '#stoprussia', '#StopRussia', '#Russian', '#Ukraine,', '#article:', '#SaveUkrainianChildren', '#StandWithUkriane', '#UAParliamentSpeaks', '#StopRussia', '#RussianWarCrimes', '#RussianUkrainianWar', '#StandWithUkriane', '#Russia‘s', '#StopTheWarNow', '#StopRussia', '#StopRussianAggression', '#StopPutinNOW', '#StopRussia', '#StopRussianAggression', '#Kyiv.', '#closeUAskyNOW', '#StopRussianAgression', '#Kyiv', '#Ukraine,', '#StandWithUkraine️', '#StandWithUkraine', '#StopRussianAggression', '#SaveUkraine', '#SaveTheWorld', '#stoprussia', '#UAdefendsEU', '#SanctionRussiaNow', '#Russia', '#Ukraine.', '#CloseUAskyNOW', '#StopRussianAggresssion', '#SanctionRussiaNow', '#PolandFirstToHelp', '#StandWithUkriane', '#RussianWarCrimes', '#UkraineWillWin', '#UAParliamentSpeaks', '#Russia’s', '#Ukraine', '#NATO', '#UkraineWillWin', '#UkraineWillWin', '#ClosetheSkyoverUkraine', '#Russian', '#war.', '#closeUAskyNOW', '#StopRussianAggression', '#CloseTheSkyOverUkraine', '#SanctionRussiaNow', '#SanctionRussiaNow', '#closeUAskyNow', '#war', '#StopRussianAggression', '#UAarmy', '#stoprussia', '#StandWithUkraine', '#NATO', '#Germany', '#Ukraine', '#Ukraine', '#Ukrainian', '#West', '#Russia:', '#StopTheWarNow', '#StopRussianAggression', '#ClosetheSkyoverUkraine', '#UAParliamentSpeaks', '#stoprussia', '#UAarmy', '#UAParliamentSpeaks', '#Russia', '#closeUAskyNow,', '#StandWithUkraine', '#StopRussianAggression', '#StopRussia', '#StandWithUkraine️', '#UAParliamentSpeaks', '#closeUAskyNow', '#RussianWarCrimes', '#Russia’s', '#BREAKING', '#UAParliamentSpeaks', '#Crimea.\"', '#NATO,', '#Ukraine🇺🇦', '#StandWithUkraine️', '#StopRussia', '#UAParliamentSpeaks', '#RussianWarCrimesinUkraine', '#stoprussia', '#PolandFirstToHelp', '#closeUAskyNOW', '#StopRussianAggression', '#StandWithUkraine️', '#Belarus', '#Russia’s', '#StopRussianGenocideinUkraine', '#Russia', '#StopRussianAggression', '#closeUAskyNOW', '#UAParliamentSpeaks', '#StandWithUkraine', '#UkraineWillWin', '#StopRussianAgression', '#BREAKING:', '#UAParliamentSpeaks', '#Ukraine', '#Russia', '#StopRussianAggression', '#closeUAskyNow', '#PolandFirstToHelp', '#StopPutinsWar', '#IStandWithUkraine', '#UAParliamentSpeaks', '#UAParliamentSpeaks', '#Ukraine', '#UAParliamentSpeaks', '#UkraineEU', '#ukraine', '#EU', '#UAtoEU', '#PolandFirstToHelp', '#Ukraine', '#StopRussianAggression', '#Ukraine', '#NATO', '#UAParliamentSpeaks', \"#Russia's\", '#SanctionRussiaNow', '#PolandFirstToHelp', '#Russia.', '#StopRussianAggression', '#StopPutinNOW', '#CloseTheSky', '#Amsterdam', '#Western', '#Moscow', \"#Russia's\", '#Ukraine', '#Russian', '#Western', \"#McDonald's\", '#IBM,', '#French', \"#Putin's\", '#PolandFirstToHelp', '#UAParliamentSpeaks', '#EU.', '#ClosetheSkyoverUkraine', '#Putin', '#Ukrainians', '#StopPutin', '#StopRussia', '#PolandFirstToHelp', '#UkraineWillWin', '#StopRussia', '#StopRussianAggression', '#StopPutin', '#PolandFirstToHelp', '#PolandFirstToHelp🇵🇱🇺🇦', '#russianlooters', '#RussianWarCrimesinUkraine', '#stoprussia', '#UkraineWillResist', '#Ukraine', '#StopRussianAggression', '#StopRussianAggression', '#StopHatingRussians', '#UAParliamentSpeaks', '#StandWithUkraine', '#UkraineWillWin', '#StopRussia', '#Russia’s', '#Ukraine', '#SanctionRussiaNow', '#Chernobyl', '#UAParliamentSpeaks', '#StopRussia', '#ClosetheSkyoverUkraine', '#CloseTheSky', '#StopRussianAggression', '#StopPutin', '#StopLukashenko', '#PolandFirstToHelp', '#BREAKING:', '#closethesky', '#UAParliamentSpeaks', '#SanctionRussiaNOW', '#Russia', '#StopRussia', '#NATO', '#Romania', '#Ukraine', '#PolandFirstToHelp', '#WhatUkraineNeeds', '#UAPaliamentSpeaks', '#StopRussia', '#closeUAskyNOW', '#CancelRussia', '#StopRussianAggression', '#StopRussianAggression', '#CloseTheSky', '#ClosetheSkyoverUkraine', '#StopRussia', '#Ukraine', '#islandRussia', '#StopRussianAggression', '#RussiaInvadedUkraine', '#ClosetheSkyoverUkraine', '#StopPutin', '#StopRussia', '#Ukraine', '#Russia', '#StopRussianAggression', '#RussiaInvadedUkraine', '#unsecuritycouncil', '#SanctionRussiaNow', '#StopRussianAggression', '#StopRussianAggression', '#Russia', '#RussiaInvadedUkraine', '#StopRussianAggression', '#Russia.', '#UkraineEU', '#PolandFirstToHelp', '#UkraineEU', '#Ukraine:', '#EU', '#Ukrainian', '#Ukraine,', '#Russia', '#Turkey', '#Russia', '#Russia', '#Ukraine.', '#American', '#Russia,', '#Ukraine', '#Russia', '#StopPutin', '#RussiaUkraineWar', '#Russians', '#Carlsberg', '#Russia', '#Russia,', '#PolandFirstToHelp', '#Russians.', '#Russia', '#Russia.', '#Russians', '#Russian', '#StopPutinNOW', '#RussiaUkraineWar', '#Germany', \"#Russia's\", '#PolandFirstToHelp', '#closeUAskyNOW', '#StopRussianAggression', '#Russia', '#SanctionsRussiaNow', '#StopPutin', '#RussianUkrainianWar', '#StopRussianAggression', '#RussiaInvadedUkraine', '#PolandFirstToHelp', '#WhatUkraineNeeds', '#WhatUkraineNeeds', '#WhatUkraineNeeds', '#WhatUkraineNeeds', '#WhatUkraineNeeds', '#WhatUkraineNeeds', \"#Ukraine's\", '#Russia', '#UkraineInvasion', '#StandingWithUkraine', '#UkraineWillResist', '#SanctionRussiaNow', '#ClosetheSkyoverUkraine', '#war', '#Ukraine', '#BREAKING:', '#Ukrainian', '#Ukraine', '#StopRussianAggression', '#BREAKING', '#PolandFirstToHelp', '#StopRussianAggression', '#StandWithUkraine️', '#StopRussia', '#StandWithUkraine️', '#UkraineWillWin', '#UkraineWillWin', '#PolandFirstToHelp', '#NoFlyZoneUA', '#closeUAskyNOW', '#StopRussianAggression', '#Russia,', '#StopRussianAggression', '#StopRussia', '#StandWithUkriane', '#StopRussia', '#stoprussia', '#NoFlyZoneUA', '#StopRussianAggression', '#Russian', '#Ukraine', '#StopRussia', '#StopRussianAgression', '#StandWithUkraine️', '#BREAKING', '#UkraineResistance', '#StopRussianAggression', '#NATO,', '#Ukraine🇺🇦', '#StopRussianAggression', '#UkraineWillWin', '#NoFlyZoneUA', '#closeUAskyNOW', '#NATOclosethesky', '#StandWithUkraine', '#StopRussianAggression', '#ProtectUASky', '#StopRussia', '#StopRussianAggression', '#BREAKING:', '#NATO', '#ForMin', '#StandWithUkraine️', '#StandWithUkraine️', '#StopRussianAggression', '#StopRussianAggression', '#StandWithUkraine️', '#StopRussia', '#ClosetheSkyoverUkraine', '#NATONoFlyZone', '#StopRussia', '#StopRussia', '#StopRussia', '#RussianWarCrimes', '#StopRussianAggression', '#ClosetheSkyoverUkraine', '#StopRussianAggression', '#RussianWarCrimes', '#SanctionsRussiaNow', '#UkraineWillWin', '#StopPutinNOW', '#StopPutinNOW', '#BREAKING', '#BREAKING', '#StopPutinNOW', '#StopPutinNOW', '#StopWarInUkraine', '#StopRussianAggression', '#StopRussianAggression', '#BREAKING', '#StopRussia', '#NATO,', '#Ukraine🇺🇦', '#BREAKING', '#StandWithUkraine', '#StopRussianAgression', '#StopRussianAggression', '#StopRussianAggression', '#StopRussia', '#NATO', '#Ukraine', '#StopRussia', '#BREAKING', '#BREAKING:', '#war', '#peaceful', '#Vote', '#BREAKING:', '#StopRussianAggression', '#UkraineWillWin', '#StopRussianAggression', '#StopRussianAggression', '#WhatUkraineNeeds', '#SanctionRussiaNow', '#BabynYar.', '#StopRussia', '#StopRussia', '#StandWithUkraine', '#StopRussia', '#StopRussia', '#UkraineWillWin', '#BREAKING', '#StopRussia', '#Russiaaggression', '#StopPutin', '#StopRussia', '#StandingWithUkraine', '#StopRussia', '#StandWithUkraine', '#StopRussia', '#StopRussia', '#StopRussia', '#StandWithUkraine', '#StopRussia', '#KyivDeclaration', '#KyivDeclaration', '#KyivDeclaration', '#KyivDeclaration', '#BREAKING:', '#BREAKING:', '#StandingWithUkraine', '#StopRussia', '#StopRussianAggression', '#StopRussia', '#StopRussia', '#StopRussia', '#BREAKING:', '#StopRussianAggression', '#NATO', '#Ukraine', '#StandWithUkraine🇺🇦', '#Ukraine', '#BREAKING', '#BREAKING', '#StopRussia', '#StandWithUkraine', '#StopRussia', '#StopRussia', '#StopRussia', '#StandWithUkraine', '#StandWithUkraine', '#StopRussia', '#CloseTheSky', '#ukrainesupport', '#StopRussia', '#UkraineUnderAttack', '#StandWithUkraine', '#SWIFT,', '#BanRussiafromSwift', '#EU', '#NATO', '#UkraineUnderAttack', '#WhatUkraineNeeds', '#RussiaInvadedUkraine', '#StopRussianAggression', '#StopRussia', '#StandWithUkraine', '#StandWithUkraine', '#StopRussia', '#StopRussia', '#StopRussia', '#StandWithUkraine', '#UkraineUnderAttack', '#StandWithUkraine.', '#StandWithUkraine', '#StopRussianAggression', '#StandWithUkraine!', '#France', '#BREAKING:', '#WhatUkraineNeeds', '#WhatUkraineNeeds', '#WhatUkraineNeeds', '#WhatUkraineNeeds', '#WhatUkraineNeeds', '#WhatUkraineNeeds', '#Ukraine', '#Dublin', '#WARINUKRAINE', '#StandWithUkraine', '#SanctionRussiaNow', '#NATO', '#Ukraine', '#StandWithUkraine', '#BREAKING:', '#NoWar', '#BREAKING:', '#UkraineWillResist', '#StopRussianAggression', '#RussiaInvadedUkraine', '#UkraineWillResist', '#BREAKING:', '#StandWithUkraine', '#RussiaInvadedUkraine', '#Zmiinyi,', '#StopRussianAggression', '#BREAKING', '#StopWar', '#UkraineRussiaWar', '#UkrainiansWillResist', '#BREAKING', '#BREAKING', '#Ukraine🇺🇦', '#BREAKING', '#BREAKING', '#BREAKING:', '#StopRussianAggression', '#RussiaInvadedUkraine', '#StopRussianAggression', '#RussiaInvadedUkraine', '#Enemy_suffers_losses', '#RussiaInvadedUkraine', '#NATO', '#Ukraine', '#StopRussianAggression', '#BREAKING:', '#RussiaInvadedUkraine', '#RussiaInvadedUkraine', '#BREAKING', '#BREAKING', '#BREAKING', '#BREAKING', '#BREAKING', '#BREAKING', '#BREAKING']\n"
     ]
    }
   ],
   "source": [
    "hashtag_list = []\n",
    "for list in tags:\n",
    "    for tag in list:\n",
    "        hashtag_list.append(tag)\n",
    "print(hashtag_list)"
   ]
  },
  {
   "cell_type": "code",
   "execution_count": 95,
   "id": "6c1c4894",
   "metadata": {},
   "outputs": [
    {
     "data": {
      "text/plain": [
       "[]                                           9385\n",
       "[#StandWithUkraine]                           149\n",
       "[#Russia’s, #Ukraine., #Russian]              111\n",
       "[#StopRussia]                                 106\n",
       "[#BREAKING]                                    63\n",
       "                                             ... \n",
       "[#stopRussia]                                   1\n",
       "[#MovingForwardTogether]                        1\n",
       "[#Mykolaiv]                                     1\n",
       "[#Russian, #Russia, #Ukraine.]                  1\n",
       "[#NATO, #Ukraine, #StopRussianAggression]       1\n",
       "Name: extracted_hashtags, Length: 1062, dtype: int64"
      ]
     },
     "execution_count": 95,
     "metadata": {},
     "output_type": "execute_result"
    }
   ],
   "source": [
    "hashtag_count = df['extracted_hashtags'].value_counts()\n",
    "hashtag_count"
   ]
  },
  {
   "cell_type": "markdown",
   "id": "02950b6b",
   "metadata": {},
   "source": [
    "# HELP"
   ]
  },
  {
   "cell_type": "code",
   "execution_count": 41,
   "id": "731b3a2a",
   "metadata": {},
   "outputs": [],
   "source": [
    "# go through the list and append to another list to get TAGS count"
   ]
  },
  {
   "cell_type": "markdown",
   "id": "303d70ce",
   "metadata": {},
   "source": [
    "### Clean tweets using NeatText "
   ]
  },
  {
   "cell_type": "code",
   "execution_count": 42,
   "id": "3553e064",
   "metadata": {},
   "outputs": [],
   "source": [
    "# remove hashtags\n",
    "df['clean_tweets'] = df['Tweets'].apply(nfx.remove_hashtags)"
   ]
  },
  {
   "cell_type": "code",
   "execution_count": 43,
   "id": "2dc123d8",
   "metadata": {},
   "outputs": [],
   "source": [
    "# remove mentions\n",
    "df['clean_tweets'] = df['clean_tweets'].apply(nfx.remove_userhandles)"
   ]
  },
  {
   "cell_type": "code",
   "execution_count": 44,
   "id": "b3885c67",
   "metadata": {},
   "outputs": [],
   "source": [
    "# remove html line space\n",
    "df['clean_tweets'] = df['clean_tweets'].apply(nfx.remove_multiple_spaces)"
   ]
  },
  {
   "cell_type": "code",
   "execution_count": 45,
   "id": "ab470f3c",
   "metadata": {},
   "outputs": [],
   "source": [
    "# remove html tags\n",
    "df['clean_tweets'] = df['clean_tweets'].apply(nfx.remove_html_tags)"
   ]
  },
  {
   "cell_type": "code",
   "execution_count": 46,
   "id": "7398bf78",
   "metadata": {},
   "outputs": [],
   "source": [
    "# remove urls\n",
    "df['clean_tweets'] = df['clean_tweets'].apply(nfx.remove_urls)"
   ]
  },
  {
   "cell_type": "code",
   "execution_count": 47,
   "id": "d2aec362",
   "metadata": {},
   "outputs": [],
   "source": [
    "# remove punctuations\n",
    "df['clean_tweets'] = df['clean_tweets'].apply(nfx.remove_puncts)"
   ]
  },
  {
   "cell_type": "code",
   "execution_count": 48,
   "id": "1f19be20",
   "metadata": {},
   "outputs": [],
   "source": [
    "# remove emojis\n",
    "df['clean_tweets'] = df['clean_tweets'].apply(nfx.remove_emojis)"
   ]
  },
  {
   "cell_type": "code",
   "execution_count": 49,
   "id": "caa7ce2c",
   "metadata": {},
   "outputs": [
    {
     "data": {
      "text/plain": [
       "'A short sum up of the Russian war against Ukraine 👇 https://t.co/cv5a4weuL6'"
      ]
     },
     "execution_count": 49,
     "metadata": {},
     "output_type": "execute_result"
    }
   ],
   "source": [
    "# Raw tweet\n",
    "df['Tweets'].iloc[3]"
   ]
  },
  {
   "cell_type": "code",
   "execution_count": 50,
   "id": "944486b1",
   "metadata": {},
   "outputs": [
    {
     "data": {
      "text/plain": [
       "'A short sum up of the Russian war against Ukraine  '"
      ]
     },
     "execution_count": 50,
     "metadata": {},
     "output_type": "execute_result"
    }
   ],
   "source": [
    "# After removing noise from the content\n",
    "df['clean_tweets'].iloc[3]"
   ]
  },
  {
   "cell_type": "code",
   "execution_count": 51,
   "id": "4954e98c",
   "metadata": {},
   "outputs": [],
   "source": [
    "processed_tweets = df['clean_tweets']"
   ]
  },
  {
   "cell_type": "code",
   "execution_count": 52,
   "id": "10c4d134",
   "metadata": {
    "scrolled": true
   },
   "outputs": [
    {
     "data": {
      "text/plain": [
       "0    Soloviev can’t stand the fact that Russia is l...\n",
       "1    Ukrainian orphans eating soup and lining up fo...\n",
       "2     A regular scene for Ukrainian families\\nSource: \n",
       "3    A short sum up of the Russian war against Ukra...\n",
       "Name: clean_tweets, dtype: object"
      ]
     },
     "execution_count": 52,
     "metadata": {},
     "output_type": "execute_result"
    }
   ],
   "source": [
    "processed_tweets[:4]"
   ]
  },
  {
   "cell_type": "markdown",
   "id": "529ddf00",
   "metadata": {},
   "source": [
    "### Keyword extraction"
   ]
  },
  {
   "cell_type": "code",
   "execution_count": 90,
   "id": "13c92609",
   "metadata": {},
   "outputs": [
    {
     "data": {
      "text/plain": [
       "<function neattext.functions.functions.remove_stopwords(text, lang='en')>"
      ]
     },
     "execution_count": 90,
     "metadata": {},
     "output_type": "execute_result"
    }
   ],
   "source": [
    "nfx.remove_stopwords"
   ]
  },
  {
   "cell_type": "code",
   "execution_count": 53,
   "id": "9cac0aed",
   "metadata": {},
   "outputs": [],
   "source": [
    "# remove Stopwords\n",
    "cleaned_tweets_list = processed_tweets.apply(nfx.remove_stopwords).tolist()\n",
    "cleaned_tweets_list = "
   ]
  },
  {
   "cell_type": "code",
   "execution_count": 54,
   "id": "c2889ca7",
   "metadata": {},
   "outputs": [],
   "source": [
    "# tokenization\n",
    "# for sentence in cleaned_tweets_list:\n",
    "#     for token in sentence.split():\n"
   ]
  },
  {
   "cell_type": "code",
   "execution_count": 55,
   "id": "e141ac23",
   "metadata": {},
   "outputs": [],
   "source": [
    "# save the tokens\n",
    "tokens = [token for sentence in cleaned_tweets_list for token in sentence.split()]"
   ]
  },
  {
   "cell_type": "code",
   "execution_count": 56,
   "id": "3b333caa",
   "metadata": {},
   "outputs": [],
   "source": [
    "from collections import Counter"
   ]
  },
  {
   "cell_type": "code",
   "execution_count": 57,
   "id": "98545b56",
   "metadata": {},
   "outputs": [],
   "source": [
    "# ectract common keywords\n",
    "def get_keywords(docx, number = 20):\n",
    "    count_tokens = Counter(docx)\n",
    "    keywords = count_tokens.most_common(number)\n",
    "    result = dict(keywords)\n",
    "    return result"
   ]
  },
  {
   "cell_type": "code",
   "execution_count": 58,
   "id": "dbe465bf",
   "metadata": {},
   "outputs": [],
   "source": [
    "keywords = get_keywords(tokens)"
   ]
  },
  {
   "cell_type": "markdown",
   "id": "8e1b1db1",
   "metadata": {},
   "source": [
    "### Plot ^ for keywords"
   ]
  },
  {
   "cell_type": "code",
   "execution_count": 59,
   "id": "d084700b",
   "metadata": {},
   "outputs": [],
   "source": [
    "new_df = pd.DataFrame(keywords.items(), columns=['Words', 'Counts'])"
   ]
  },
  {
   "cell_type": "code",
   "execution_count": 60,
   "id": "8289c758",
   "metadata": {},
   "outputs": [
    {
     "data": {
      "text/html": [
       "<div>\n",
       "<style scoped>\n",
       "    .dataframe tbody tr th:only-of-type {\n",
       "        vertical-align: middle;\n",
       "    }\n",
       "\n",
       "    .dataframe tbody tr th {\n",
       "        vertical-align: top;\n",
       "    }\n",
       "\n",
       "    .dataframe thead th {\n",
       "        text-align: right;\n",
       "    }\n",
       "</style>\n",
       "<table border=\"1\" class=\"dataframe\">\n",
       "  <thead>\n",
       "    <tr style=\"text-align: right;\">\n",
       "      <th></th>\n",
       "      <th>Words</th>\n",
       "      <th>Counts</th>\n",
       "    </tr>\n",
       "  </thead>\n",
       "  <tbody>\n",
       "    <tr>\n",
       "      <th>0</th>\n",
       "      <td>Ukrainian</td>\n",
       "      <td>6053</td>\n",
       "    </tr>\n",
       "    <tr>\n",
       "      <th>1</th>\n",
       "      <td>Ukraine</td>\n",
       "      <td>3893</td>\n",
       "    </tr>\n",
       "    <tr>\n",
       "      <th>2</th>\n",
       "      <td>Russia</td>\n",
       "      <td>3849</td>\n",
       "    </tr>\n",
       "    <tr>\n",
       "      <th>3</th>\n",
       "      <td>Russian</td>\n",
       "      <td>3732</td>\n",
       "    </tr>\n",
       "    <tr>\n",
       "      <th>4</th>\n",
       "      <td>war</td>\n",
       "      <td>3078</td>\n",
       "    </tr>\n",
       "  </tbody>\n",
       "</table>\n",
       "</div>"
      ],
      "text/plain": [
       "       Words  Counts\n",
       "0  Ukrainian    6053\n",
       "1    Ukraine    3893\n",
       "2     Russia    3849\n",
       "3    Russian    3732\n",
       "4        war    3078"
      ]
     },
     "execution_count": 60,
     "metadata": {},
     "output_type": "execute_result"
    }
   ],
   "source": [
    "new_df.head()"
   ]
  },
  {
   "cell_type": "code",
   "execution_count": 61,
   "id": "bdd4fd71",
   "metadata": {},
   "outputs": [
    {
     "data": {
      "image/png": "[encoded data removed]",
      "text/plain": [
       "<Figure size 576x576 with 1 Axes>"
      ]
     },
     "metadata": {
      "needs_background": "light"
     },
     "output_type": "display_data"
    }
   ],
   "source": [
    "plt.figure(figsize=(8,8))\n",
    "\n",
    "sns.barplot(x = 'Words', y = 'Counts', data = new_df)\n",
    "\n",
    "#plt.title(\"Keywords Analysis\")\n",
    "plt.grid(color='gainsboro', linestyle='--', linewidth=0.5)\n",
    "\n",
    "plt.xticks(rotation = 90)\n",
    "plt.show()"
   ]
  },
  {
   "cell_type": "markdown",
   "id": "37c9d160",
   "metadata": {},
   "source": [
    "### Sentiment Analysis"
   ]
  },
  {
   "cell_type": "code",
   "execution_count": 62,
   "id": "50d05a01",
   "metadata": {},
   "outputs": [],
   "source": [
    "#!pip install textblob"
   ]
  },
  {
   "cell_type": "code",
   "execution_count": 63,
   "id": "3a123cae",
   "metadata": {},
   "outputs": [],
   "source": [
    "from textblob import TextBlob"
   ]
  },
  {
   "cell_type": "code",
   "execution_count": 64,
   "id": "60e9ec69",
   "metadata": {},
   "outputs": [],
   "source": [
    "def get_sentiment(text):\n",
    "    blob = TextBlob(text)\n",
    "    sentiment_polarity = blob.sentiment.polarity\n",
    "    sentiment_subjectivity = blob.sentiment.subjectivity\n",
    "    if sentiment_polarity > 0:\n",
    "        sentiment_label = 'Positive'\n",
    "    elif sentiment_polarity < 0:\n",
    "        sentiment_label = 'Negative'\n",
    "    else:\n",
    "        sentiment_label = 'Neutral'\n",
    "    result = {'polarity':sentiment_polarity,\n",
    "              'subjectivity':sentiment_subjectivity,\n",
    "              'sentiment':sentiment_label}\n",
    "    return result"
   ]
  },
  {
   "cell_type": "code",
   "execution_count": 65,
   "id": "f192a8f0",
   "metadata": {
    "scrolled": true
   },
   "outputs": [
    {
     "data": {
      "text/html": [
       "<div>\n",
       "<style scoped>\n",
       "    .dataframe tbody tr th:only-of-type {\n",
       "        vertical-align: middle;\n",
       "    }\n",
       "\n",
       "    .dataframe tbody tr th {\n",
       "        vertical-align: top;\n",
       "    }\n",
       "\n",
       "    .dataframe thead th {\n",
       "        text-align: right;\n",
       "    }\n",
       "</style>\n",
       "<table border=\"1\" class=\"dataframe\">\n",
       "  <thead>\n",
       "    <tr style=\"text-align: right;\">\n",
       "      <th></th>\n",
       "      <th>Users</th>\n",
       "      <th>Date</th>\n",
       "      <th>Tweets</th>\n",
       "      <th>Source</th>\n",
       "      <th>extracted_hashtags</th>\n",
       "      <th>clean_tweets</th>\n",
       "    </tr>\n",
       "  </thead>\n",
       "  <tbody>\n",
       "    <tr>\n",
       "      <th>0</th>\n",
       "      <td>visegrad24</td>\n",
       "      <td>2022-12-01</td>\n",
       "      <td>Soloviev can’t stand the fact that Russia is l...</td>\n",
       "      <td>Twitter for iPhone</td>\n",
       "      <td>[]</td>\n",
       "      <td>Soloviev can’t stand the fact that Russia is l...</td>\n",
       "    </tr>\n",
       "  </tbody>\n",
       "</table>\n",
       "</div>"
      ],
      "text/plain": [
       "        Users        Date                                             Tweets  \\\n",
       "0  visegrad24  2022-12-01  Soloviev can’t stand the fact that Russia is l...   \n",
       "\n",
       "               Source extracted_hashtags  \\\n",
       "0  Twitter for iPhone                 []   \n",
       "\n",
       "                                        clean_tweets  \n",
       "0  Soloviev can’t stand the fact that Russia is l...  "
      ]
     },
     "execution_count": 65,
     "metadata": {},
     "output_type": "execute_result"
    }
   ],
   "source": [
    "df.head(1)"
   ]
  },
  {
   "cell_type": "code",
   "execution_count": 66,
   "id": "3118a8e8",
   "metadata": {},
   "outputs": [
    {
     "data": {
      "text/plain": [
       "'Not only is bombing Ukrainian infrastructure militarily justifiable said Russias foreign minister it is helping save lives he claimed '"
      ]
     },
     "execution_count": 66,
     "metadata": {},
     "output_type": "execute_result"
    }
   ],
   "source": [
    "example = df['clean_tweets'].iloc[7]\n",
    "example"
   ]
  },
  {
   "cell_type": "code",
   "execution_count": 67,
   "id": "178af3e9",
   "metadata": {},
   "outputs": [
    {
     "data": {
      "text/plain": [
       "{'polarity': -0.075,\n",
       " 'subjectivity': 0.4083333333333334,\n",
       " 'sentiment': 'Negative'}"
      ]
     },
     "execution_count": 67,
     "metadata": {},
     "output_type": "execute_result"
    }
   ],
   "source": [
    "get_sentiment(example)"
   ]
  },
  {
   "cell_type": "code",
   "execution_count": 68,
   "id": "af48496c",
   "metadata": {},
   "outputs": [
    {
     "data": {
      "text/plain": [
       "'Ukrainian orphans eating soup and lining up for dessert So many Ukrainian kids have lost their parents due to Russia’s invasion Many of these orphanages have been given aid from the West It’s great to see so many people extending their hands to help these kids out '"
      ]
     },
     "execution_count": 68,
     "metadata": {},
     "output_type": "execute_result"
    }
   ],
   "source": [
    "example_1 = df['clean_tweets'].iloc[1]\n",
    "example_1"
   ]
  },
  {
   "cell_type": "code",
   "execution_count": 69,
   "id": "0536bf43",
   "metadata": {},
   "outputs": [
    {
     "data": {
      "text/plain": [
       "{'polarity': 0.43499999999999994,\n",
       " 'subjectivity': 0.525,\n",
       " 'sentiment': 'Positive'}"
      ]
     },
     "execution_count": 69,
     "metadata": {},
     "output_type": "execute_result"
    }
   ],
   "source": [
    "get_sentiment(example_1)"
   ]
  },
  {
   "cell_type": "code",
   "execution_count": 70,
   "id": "6ffacce1",
   "metadata": {},
   "outputs": [
    {
     "data": {
      "text/plain": [
       "'2⃣8⃣1⃣ days of fullscale Russia’s war on Information on invasion\\nLosses of armed forces in Ukraine December 1 '"
      ]
     },
     "execution_count": 70,
     "metadata": {},
     "output_type": "execute_result"
    }
   ],
   "source": [
    "example_2 = df['clean_tweets'].iloc[20]\n",
    "example_2"
   ]
  },
  {
   "cell_type": "code",
   "execution_count": 71,
   "id": "7fbc54fd",
   "metadata": {},
   "outputs": [
    {
     "data": {
      "text/plain": [
       "{'polarity': 0.0, 'subjectivity': 0.0, 'sentiment': 'Neutral'}"
      ]
     },
     "execution_count": 71,
     "metadata": {},
     "output_type": "execute_result"
    }
   ],
   "source": [
    "get_sentiment(example_2)"
   ]
  },
  {
   "cell_type": "code",
   "execution_count": 72,
   "id": "722e1b56",
   "metadata": {},
   "outputs": [],
   "source": [
    "df['dir_sentiment'] = df['clean_tweets'].apply(get_sentiment)"
   ]
  },
  {
   "cell_type": "code",
   "execution_count": 73,
   "id": "903814b4",
   "metadata": {},
   "outputs": [],
   "source": [
    "# df = df.drop(columns=['sentiment'])"
   ]
  },
  {
   "cell_type": "code",
   "execution_count": 74,
   "id": "78806a6c",
   "metadata": {},
   "outputs": [
    {
     "data": {
      "text/html": [
       "<div>\n",
       "<style scoped>\n",
       "    .dataframe tbody tr th:only-of-type {\n",
       "        vertical-align: middle;\n",
       "    }\n",
       "\n",
       "    .dataframe tbody tr th {\n",
       "        vertical-align: top;\n",
       "    }\n",
       "\n",
       "    .dataframe thead th {\n",
       "        text-align: right;\n",
       "    }\n",
       "</style>\n",
       "<table border=\"1\" class=\"dataframe\">\n",
       "  <thead>\n",
       "    <tr style=\"text-align: right;\">\n",
       "      <th></th>\n",
       "      <th>Users</th>\n",
       "      <th>Date</th>\n",
       "      <th>Tweets</th>\n",
       "      <th>Source</th>\n",
       "      <th>extracted_hashtags</th>\n",
       "      <th>clean_tweets</th>\n",
       "      <th>dir_sentiment</th>\n",
       "    </tr>\n",
       "  </thead>\n",
       "  <tbody>\n",
       "    <tr>\n",
       "      <th>0</th>\n",
       "      <td>visegrad24</td>\n",
       "      <td>2022-12-01</td>\n",
       "      <td>Soloviev can’t stand the fact that Russia is l...</td>\n",
       "      <td>Twitter for iPhone</td>\n",
       "      <td>[]</td>\n",
       "      <td>Soloviev can’t stand the fact that Russia is l...</td>\n",
       "      <td>{'polarity': -0.03333333333333333, 'subjectivi...</td>\n",
       "    </tr>\n",
       "  </tbody>\n",
       "</table>\n",
       "</div>"
      ],
      "text/plain": [
       "        Users        Date                                             Tweets  \\\n",
       "0  visegrad24  2022-12-01  Soloviev can’t stand the fact that Russia is l...   \n",
       "\n",
       "               Source extracted_hashtags  \\\n",
       "0  Twitter for iPhone                 []   \n",
       "\n",
       "                                        clean_tweets  \\\n",
       "0  Soloviev can’t stand the fact that Russia is l...   \n",
       "\n",
       "                                       dir_sentiment  \n",
       "0  {'polarity': -0.03333333333333333, 'subjectivi...  "
      ]
     },
     "execution_count": 74,
     "metadata": {},
     "output_type": "execute_result"
    }
   ],
   "source": [
    "df.head(1)"
   ]
  },
  {
   "cell_type": "code",
   "execution_count": 75,
   "id": "92d24c22",
   "metadata": {},
   "outputs": [
    {
     "data": {
      "text/plain": [
       "{'polarity': -0.03333333333333333,\n",
       " 'subjectivity': 0.13333333333333333,\n",
       " 'sentiment': 'Negative'}"
      ]
     },
     "execution_count": 75,
     "metadata": {},
     "output_type": "execute_result"
    }
   ],
   "source": [
    "df['dir_sentiment'].iloc[0]"
   ]
  },
  {
   "cell_type": "code",
   "execution_count": 76,
   "id": "8dacfa3c",
   "metadata": {},
   "outputs": [
    {
     "data": {
      "text/html": [
       "<div>\n",
       "<style scoped>\n",
       "    .dataframe tbody tr th:only-of-type {\n",
       "        vertical-align: middle;\n",
       "    }\n",
       "\n",
       "    .dataframe tbody tr th {\n",
       "        vertical-align: top;\n",
       "    }\n",
       "\n",
       "    .dataframe thead th {\n",
       "        text-align: right;\n",
       "    }\n",
       "</style>\n",
       "<table border=\"1\" class=\"dataframe\">\n",
       "  <thead>\n",
       "    <tr style=\"text-align: right;\">\n",
       "      <th></th>\n",
       "      <th>polarity</th>\n",
       "      <th>subjectivity</th>\n",
       "      <th>sentiment</th>\n",
       "    </tr>\n",
       "  </thead>\n",
       "  <tbody>\n",
       "    <tr>\n",
       "      <th>0</th>\n",
       "      <td>-0.033333</td>\n",
       "      <td>0.133333</td>\n",
       "      <td>Negative</td>\n",
       "    </tr>\n",
       "  </tbody>\n",
       "</table>\n",
       "</div>"
      ],
      "text/plain": [
       "   polarity  subjectivity sentiment\n",
       "0 -0.033333      0.133333  Negative"
      ]
     },
     "execution_count": 76,
     "metadata": {},
     "output_type": "execute_result"
    }
   ],
   "source": [
    "pd.json_normalize(df['dir_sentiment'].iloc[0])"
   ]
  },
  {
   "cell_type": "code",
   "execution_count": 77,
   "id": "840edb20",
   "metadata": {},
   "outputs": [],
   "source": [
    "df = df.join(pd.json_normalize(df['dir_sentiment']))"
   ]
  },
  {
   "cell_type": "code",
   "execution_count": 87,
   "id": "01ddec3c",
   "metadata": {
    "scrolled": true
   },
   "outputs": [
    {
     "data": {
      "text/html": [
       "<div>\n",
       "<style scoped>\n",
       "    .dataframe tbody tr th:only-of-type {\n",
       "        vertical-align: middle;\n",
       "    }\n",
       "\n",
       "    .dataframe tbody tr th {\n",
       "        vertical-align: top;\n",
       "    }\n",
       "\n",
       "    .dataframe thead th {\n",
       "        text-align: right;\n",
       "    }\n",
       "</style>\n",
       "<table border=\"1\" class=\"dataframe\">\n",
       "  <thead>\n",
       "    <tr style=\"text-align: right;\">\n",
       "      <th></th>\n",
       "      <th>Users</th>\n",
       "      <th>Date</th>\n",
       "      <th>Tweets</th>\n",
       "      <th>Source</th>\n",
       "      <th>extracted_hashtags</th>\n",
       "      <th>clean_tweets</th>\n",
       "      <th>dir_sentiment</th>\n",
       "      <th>polarity</th>\n",
       "      <th>subjectivity</th>\n",
       "      <th>sentiment</th>\n",
       "    </tr>\n",
       "  </thead>\n",
       "  <tbody>\n",
       "    <tr>\n",
       "      <th>0</th>\n",
       "      <td>visegrad24</td>\n",
       "      <td>2022-12-01</td>\n",
       "      <td>Soloviev can’t stand the fact that Russia is l...</td>\n",
       "      <td>Twitter for iPhone</td>\n",
       "      <td>[]</td>\n",
       "      <td>Soloviev can’t stand the fact that Russia is l...</td>\n",
       "      <td>{'polarity': -0.03333333333333333, 'subjectivi...</td>\n",
       "      <td>-0.033333</td>\n",
       "      <td>0.133333</td>\n",
       "      <td>Negative</td>\n",
       "    </tr>\n",
       "    <tr>\n",
       "      <th>1</th>\n",
       "      <td>visegrad24</td>\n",
       "      <td>2022-12-01</td>\n",
       "      <td>Ukrainian orphans eating soup and lining up fo...</td>\n",
       "      <td>Twitter for iPhone</td>\n",
       "      <td>[]</td>\n",
       "      <td>Ukrainian orphans eating soup and lining up fo...</td>\n",
       "      <td>{'polarity': 0.43499999999999994, 'subjectivit...</td>\n",
       "      <td>0.435000</td>\n",
       "      <td>0.525000</td>\n",
       "      <td>Positive</td>\n",
       "    </tr>\n",
       "    <tr>\n",
       "      <th>2</th>\n",
       "      <td>ukraine_world</td>\n",
       "      <td>2022-12-01</td>\n",
       "      <td>A regular scene for Ukrainian families...\\nSou...</td>\n",
       "      <td>Twitter Web App</td>\n",
       "      <td>[]</td>\n",
       "      <td>A regular scene for Ukrainian families\\nSource:</td>\n",
       "      <td>{'polarity': 0.0, 'subjectivity': 0.0769230769...</td>\n",
       "      <td>0.000000</td>\n",
       "      <td>0.076923</td>\n",
       "      <td>Neutral</td>\n",
       "    </tr>\n",
       "    <tr>\n",
       "      <th>3</th>\n",
       "      <td>ukraine_world</td>\n",
       "      <td>2022-12-01</td>\n",
       "      <td>A short sum up of the Russian war against Ukra...</td>\n",
       "      <td>Twitter Web App</td>\n",
       "      <td>[]</td>\n",
       "      <td>A short sum up of the Russian war against Ukra...</td>\n",
       "      <td>{'polarity': 0.0, 'subjectivity': 0.15, 'senti...</td>\n",
       "      <td>0.000000</td>\n",
       "      <td>0.150000</td>\n",
       "      <td>Neutral</td>\n",
       "    </tr>\n",
       "    <tr>\n",
       "      <th>4</th>\n",
       "      <td>ukraine_world</td>\n",
       "      <td>2022-12-01</td>\n",
       "      <td>Ukraine is a progressive industrial state. Its...</td>\n",
       "      <td>Twitter Web App</td>\n",
       "      <td>[#AgainstRussianLies]</td>\n",
       "      <td>Ukraine is a progressive industrial state Its ...</td>\n",
       "      <td>{'polarity': 0.0, 'subjectivity': 0.3083333333...</td>\n",
       "      <td>0.000000</td>\n",
       "      <td>0.308333</td>\n",
       "      <td>Neutral</td>\n",
       "    </tr>\n",
       "  </tbody>\n",
       "</table>\n",
       "</div>"
      ],
      "text/plain": [
       "           Users        Date  \\\n",
       "0     visegrad24  2022-12-01   \n",
       "1     visegrad24  2022-12-01   \n",
       "2  ukraine_world  2022-12-01   \n",
       "3  ukraine_world  2022-12-01   \n",
       "4  ukraine_world  2022-12-01   \n",
       "\n",
       "                                              Tweets              Source  \\\n",
       "0  Soloviev can’t stand the fact that Russia is l...  Twitter for iPhone   \n",
       "1  Ukrainian orphans eating soup and lining up fo...  Twitter for iPhone   \n",
       "2  A regular scene for Ukrainian families...\\nSou...     Twitter Web App   \n",
       "3  A short sum up of the Russian war against Ukra...     Twitter Web App   \n",
       "4  Ukraine is a progressive industrial state. Its...     Twitter Web App   \n",
       "\n",
       "      extracted_hashtags                                       clean_tweets  \\\n",
       "0                     []  Soloviev can’t stand the fact that Russia is l...   \n",
       "1                     []  Ukrainian orphans eating soup and lining up fo...   \n",
       "2                     []   A regular scene for Ukrainian families\\nSource:    \n",
       "3                     []  A short sum up of the Russian war against Ukra...   \n",
       "4  [#AgainstRussianLies]  Ukraine is a progressive industrial state Its ...   \n",
       "\n",
       "                                       dir_sentiment  polarity  subjectivity  \\\n",
       "0  {'polarity': -0.03333333333333333, 'subjectivi... -0.033333      0.133333   \n",
       "1  {'polarity': 0.43499999999999994, 'subjectivit...  0.435000      0.525000   \n",
       "2  {'polarity': 0.0, 'subjectivity': 0.0769230769...  0.000000      0.076923   \n",
       "3  {'polarity': 0.0, 'subjectivity': 0.15, 'senti...  0.000000      0.150000   \n",
       "4  {'polarity': 0.0, 'subjectivity': 0.3083333333...  0.000000      0.308333   \n",
       "\n",
       "  sentiment  \n",
       "0  Negative  \n",
       "1  Positive  \n",
       "2   Neutral  \n",
       "3   Neutral  \n",
       "4   Neutral  "
      ]
     },
     "execution_count": 87,
     "metadata": {},
     "output_type": "execute_result"
    }
   ],
   "source": [
    "df.head()"
   ]
  },
  {
   "cell_type": "code",
   "execution_count": 79,
   "id": "6767644f",
   "metadata": {},
   "outputs": [
    {
     "data": {
      "text/plain": [
       "Positive    4926\n",
       "Neutral     3782\n",
       "Negative    3090\n",
       "Name: sentiment, dtype: int64"
      ]
     },
     "execution_count": 79,
     "metadata": {},
     "output_type": "execute_result"
    }
   ],
   "source": [
    "df['sentiment'].value_counts()"
   ]
  },
  {
   "cell_type": "code",
   "execution_count": 85,
   "id": "6a6dbb31",
   "metadata": {
    "collapsed": true
   },
   "outputs": [
    {
     "data": {
      "text/plain": [
       "'We are now in December amp Ukrainians will experience a very different Christmas season compared to the rest of us Let’s help them get through winter “Carol of the Bells was written by the Ukrainian composer Mykola Leontovych in 1914 and become popular in the US in the 1920s '"
      ]
     },
     "execution_count": 85,
     "metadata": {},
     "output_type": "execute_result"
    }
   ],
   "source": [
    "df['clean_tweets'].iloc[8]"
   ]
  },
  {
   "cell_type": "code",
   "execution_count": 118,
   "id": "fa9cabb7",
   "metadata": {},
   "outputs": [
    {
     "data": {
      "image/png": "[encoded data removed]",
      "text/plain": [
       "<Figure size 504x432 with 1 Axes>"
      ]
     },
     "metadata": {
      "needs_background": "light"
     },
     "output_type": "display_data"
    }
   ],
   "source": [
    "fig = plt.figure()\n",
    "fig.set_figwidth(7)\n",
    "fig.set_figheight(6)\n",
    "\n",
    "df['sentiment'].value_counts().plot(kind='bar')\n",
    "\n",
    "plt.yticks(np.arange(0, 5005, step= 500))\n",
    "\n",
    "plt.xlabel('Sentiments')\n",
    "plt.ylabel('Number of Tweets')\n",
    "\n",
    "plt.grid(color='gainsboro', linestyle='--', linewidth=0.4)\n",
    "plt.show()"
   ]
  },
  {
   "cell_type": "markdown",
   "id": "9eed31d2",
   "metadata": {},
   "source": [
    "### Scatter plot "
   ]
  },
  {
   "cell_type": "code",
   "execution_count": 135,
   "id": "c4ef9f91",
   "metadata": {},
   "outputs": [
    {
     "data": {
      "text/plain": [
       "Text(0, 0.5, 'Subjectivity')"
      ]
     },
     "execution_count": 135,
     "metadata": {},
     "output_type": "execute_result"
    },
    {
     "data": {
      "image/png": "[encoded data removed]",
      "text/plain": [
       "<Figure size 720x576 with 1 Axes>"
      ]
     },
     "metadata": {},
     "output_type": "display_data"
    }
   ],
   "source": [
    "plt.figure(figsize = (10,8))\n",
    "\n",
    "sns.set_style(\"whitegrid\")\n",
    "sns.scatterplot(data = df, x = \"polarity\", y = \"subjectivity\", hue = \"sentiment\") \n",
    "\n",
    "plt.xlabel('Polarity')\n",
    "plt.ylabel('Subjectivity')\n",
    "\n"
   ]
  },
  {
   "cell_type": "code",
   "execution_count": null,
   "id": "fb53e869",
   "metadata": {},
   "outputs": [],
   "source": []
  }
 ],
 "metadata": {
  "kernelspec": {
   "display_name": "Python 3 (ipykernel)",
   "language": "python",
   "name": "python3"
  },
  "language_info": {
   "codemirror_mode": {
    "name": "ipython",
    "version": 3
   },
   "file_extension": ".py",
   "mimetype": "text/x-python",
   "name": "python",
   "nbconvert_exporter": "python",
   "pygments_lexer": "ipython3",
   "version": "3.9.12"
  }
 },
 "nbformat": 4,
 "nbformat_minor": 5
}
